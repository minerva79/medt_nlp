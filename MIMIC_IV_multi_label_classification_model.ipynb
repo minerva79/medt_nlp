{
  "nbformat": 4,
  "nbformat_minor": 0,
  "metadata": {
    "colab": {
      "provenance": [],
      "gpuType": "A100",
      "machine_shape": "hm",
      "include_colab_link": true
    },
    "kernelspec": {
      "name": "python3",
      "display_name": "Python 3"
    },
    "language_info": {
      "name": "python"
    },
    "accelerator": "GPU",
    "widgets": {
      "application/vnd.jupyter.widget-state+json": {
        "c7d3df462e24435d87155ef3bc695f96": {
          "model_module": "@jupyter-widgets/controls",
          "model_name": "HBoxModel",
          "model_module_version": "1.5.0",
          "state": {
            "_dom_classes": [],
            "_model_module": "@jupyter-widgets/controls",
            "_model_module_version": "1.5.0",
            "_model_name": "HBoxModel",
            "_view_count": null,
            "_view_module": "@jupyter-widgets/controls",
            "_view_module_version": "1.5.0",
            "_view_name": "HBoxView",
            "box_style": "",
            "children": [
              "IPY_MODEL_5aa6d22bcdeb456f82af7144460191b7",
              "IPY_MODEL_2d69f78f4b564415931a9e25207d93e0",
              "IPY_MODEL_99b2a2cb6b0f41fc94d7828964b41d07"
            ],
            "layout": "IPY_MODEL_fac788fac64c41768702d0b8de6a0e2e"
          }
        },
        "5aa6d22bcdeb456f82af7144460191b7": {
          "model_module": "@jupyter-widgets/controls",
          "model_name": "HTMLModel",
          "model_module_version": "1.5.0",
          "state": {
            "_dom_classes": [],
            "_model_module": "@jupyter-widgets/controls",
            "_model_module_version": "1.5.0",
            "_model_name": "HTMLModel",
            "_view_count": null,
            "_view_module": "@jupyter-widgets/controls",
            "_view_module_version": "1.5.0",
            "_view_name": "HTMLView",
            "description": "",
            "description_tooltip": null,
            "layout": "IPY_MODEL_6e9efdbc5a5c432bb7e5315f0f49fd85",
            "placeholder": "​",
            "style": "IPY_MODEL_677df3562124406c93959dd3212f8731",
            "value": "config.json: 100%"
          }
        },
        "2d69f78f4b564415931a9e25207d93e0": {
          "model_module": "@jupyter-widgets/controls",
          "model_name": "FloatProgressModel",
          "model_module_version": "1.5.0",
          "state": {
            "_dom_classes": [],
            "_model_module": "@jupyter-widgets/controls",
            "_model_module_version": "1.5.0",
            "_model_name": "FloatProgressModel",
            "_view_count": null,
            "_view_module": "@jupyter-widgets/controls",
            "_view_module_version": "1.5.0",
            "_view_name": "ProgressView",
            "bar_style": "success",
            "description": "",
            "description_tooltip": null,
            "layout": "IPY_MODEL_5afbfe9d82214b7d9357c24d22f92f2b",
            "max": 694,
            "min": 0,
            "orientation": "horizontal",
            "style": "IPY_MODEL_9cc6cdb77b41492fa0d332cddff725a5",
            "value": 694
          }
        },
        "99b2a2cb6b0f41fc94d7828964b41d07": {
          "model_module": "@jupyter-widgets/controls",
          "model_name": "HTMLModel",
          "model_module_version": "1.5.0",
          "state": {
            "_dom_classes": [],
            "_model_module": "@jupyter-widgets/controls",
            "_model_module_version": "1.5.0",
            "_model_name": "HTMLModel",
            "_view_count": null,
            "_view_module": "@jupyter-widgets/controls",
            "_view_module_version": "1.5.0",
            "_view_name": "HTMLView",
            "description": "",
            "description_tooltip": null,
            "layout": "IPY_MODEL_c4f8811fddff4c10ad90fe33a90d407b",
            "placeholder": "​",
            "style": "IPY_MODEL_50099c1118db41cbbc24e38ba7f99ba1",
            "value": " 694/694 [00:00&lt;00:00, 60.3kB/s]"
          }
        },
        "fac788fac64c41768702d0b8de6a0e2e": {
          "model_module": "@jupyter-widgets/base",
          "model_name": "LayoutModel",
          "model_module_version": "1.2.0",
          "state": {
            "_model_module": "@jupyter-widgets/base",
            "_model_module_version": "1.2.0",
            "_model_name": "LayoutModel",
            "_view_count": null,
            "_view_module": "@jupyter-widgets/base",
            "_view_module_version": "1.2.0",
            "_view_name": "LayoutView",
            "align_content": null,
            "align_items": null,
            "align_self": null,
            "border": null,
            "bottom": null,
            "display": null,
            "flex": null,
            "flex_flow": null,
            "grid_area": null,
            "grid_auto_columns": null,
            "grid_auto_flow": null,
            "grid_auto_rows": null,
            "grid_column": null,
            "grid_gap": null,
            "grid_row": null,
            "grid_template_areas": null,
            "grid_template_columns": null,
            "grid_template_rows": null,
            "height": null,
            "justify_content": null,
            "justify_items": null,
            "left": null,
            "margin": null,
            "max_height": null,
            "max_width": null,
            "min_height": null,
            "min_width": null,
            "object_fit": null,
            "object_position": null,
            "order": null,
            "overflow": null,
            "overflow_x": null,
            "overflow_y": null,
            "padding": null,
            "right": null,
            "top": null,
            "visibility": null,
            "width": null
          }
        },
        "6e9efdbc5a5c432bb7e5315f0f49fd85": {
          "model_module": "@jupyter-widgets/base",
          "model_name": "LayoutModel",
          "model_module_version": "1.2.0",
          "state": {
            "_model_module": "@jupyter-widgets/base",
            "_model_module_version": "1.2.0",
            "_model_name": "LayoutModel",
            "_view_count": null,
            "_view_module": "@jupyter-widgets/base",
            "_view_module_version": "1.2.0",
            "_view_name": "LayoutView",
            "align_content": null,
            "align_items": null,
            "align_self": null,
            "border": null,
            "bottom": null,
            "display": null,
            "flex": null,
            "flex_flow": null,
            "grid_area": null,
            "grid_auto_columns": null,
            "grid_auto_flow": null,
            "grid_auto_rows": null,
            "grid_column": null,
            "grid_gap": null,
            "grid_row": null,
            "grid_template_areas": null,
            "grid_template_columns": null,
            "grid_template_rows": null,
            "height": null,
            "justify_content": null,
            "justify_items": null,
            "left": null,
            "margin": null,
            "max_height": null,
            "max_width": null,
            "min_height": null,
            "min_width": null,
            "object_fit": null,
            "object_position": null,
            "order": null,
            "overflow": null,
            "overflow_x": null,
            "overflow_y": null,
            "padding": null,
            "right": null,
            "top": null,
            "visibility": null,
            "width": null
          }
        },
        "677df3562124406c93959dd3212f8731": {
          "model_module": "@jupyter-widgets/controls",
          "model_name": "DescriptionStyleModel",
          "model_module_version": "1.5.0",
          "state": {
            "_model_module": "@jupyter-widgets/controls",
            "_model_module_version": "1.5.0",
            "_model_name": "DescriptionStyleModel",
            "_view_count": null,
            "_view_module": "@jupyter-widgets/base",
            "_view_module_version": "1.2.0",
            "_view_name": "StyleView",
            "description_width": ""
          }
        },
        "5afbfe9d82214b7d9357c24d22f92f2b": {
          "model_module": "@jupyter-widgets/base",
          "model_name": "LayoutModel",
          "model_module_version": "1.2.0",
          "state": {
            "_model_module": "@jupyter-widgets/base",
            "_model_module_version": "1.2.0",
            "_model_name": "LayoutModel",
            "_view_count": null,
            "_view_module": "@jupyter-widgets/base",
            "_view_module_version": "1.2.0",
            "_view_name": "LayoutView",
            "align_content": null,
            "align_items": null,
            "align_self": null,
            "border": null,
            "bottom": null,
            "display": null,
            "flex": null,
            "flex_flow": null,
            "grid_area": null,
            "grid_auto_columns": null,
            "grid_auto_flow": null,
            "grid_auto_rows": null,
            "grid_column": null,
            "grid_gap": null,
            "grid_row": null,
            "grid_template_areas": null,
            "grid_template_columns": null,
            "grid_template_rows": null,
            "height": null,
            "justify_content": null,
            "justify_items": null,
            "left": null,
            "margin": null,
            "max_height": null,
            "max_width": null,
            "min_height": null,
            "min_width": null,
            "object_fit": null,
            "object_position": null,
            "order": null,
            "overflow": null,
            "overflow_x": null,
            "overflow_y": null,
            "padding": null,
            "right": null,
            "top": null,
            "visibility": null,
            "width": null
          }
        },
        "9cc6cdb77b41492fa0d332cddff725a5": {
          "model_module": "@jupyter-widgets/controls",
          "model_name": "ProgressStyleModel",
          "model_module_version": "1.5.0",
          "state": {
            "_model_module": "@jupyter-widgets/controls",
            "_model_module_version": "1.5.0",
            "_model_name": "ProgressStyleModel",
            "_view_count": null,
            "_view_module": "@jupyter-widgets/base",
            "_view_module_version": "1.2.0",
            "_view_name": "StyleView",
            "bar_color": null,
            "description_width": ""
          }
        },
        "c4f8811fddff4c10ad90fe33a90d407b": {
          "model_module": "@jupyter-widgets/base",
          "model_name": "LayoutModel",
          "model_module_version": "1.2.0",
          "state": {
            "_model_module": "@jupyter-widgets/base",
            "_model_module_version": "1.2.0",
            "_model_name": "LayoutModel",
            "_view_count": null,
            "_view_module": "@jupyter-widgets/base",
            "_view_module_version": "1.2.0",
            "_view_name": "LayoutView",
            "align_content": null,
            "align_items": null,
            "align_self": null,
            "border": null,
            "bottom": null,
            "display": null,
            "flex": null,
            "flex_flow": null,
            "grid_area": null,
            "grid_auto_columns": null,
            "grid_auto_flow": null,
            "grid_auto_rows": null,
            "grid_column": null,
            "grid_gap": null,
            "grid_row": null,
            "grid_template_areas": null,
            "grid_template_columns": null,
            "grid_template_rows": null,
            "height": null,
            "justify_content": null,
            "justify_items": null,
            "left": null,
            "margin": null,
            "max_height": null,
            "max_width": null,
            "min_height": null,
            "min_width": null,
            "object_fit": null,
            "object_position": null,
            "order": null,
            "overflow": null,
            "overflow_x": null,
            "overflow_y": null,
            "padding": null,
            "right": null,
            "top": null,
            "visibility": null,
            "width": null
          }
        },
        "50099c1118db41cbbc24e38ba7f99ba1": {
          "model_module": "@jupyter-widgets/controls",
          "model_name": "DescriptionStyleModel",
          "model_module_version": "1.5.0",
          "state": {
            "_model_module": "@jupyter-widgets/controls",
            "_model_module_version": "1.5.0",
            "_model_name": "DescriptionStyleModel",
            "_view_count": null,
            "_view_module": "@jupyter-widgets/base",
            "_view_module_version": "1.2.0",
            "_view_name": "StyleView",
            "description_width": ""
          }
        },
        "34ed4e57e33844aeb1eba7e70daff2f6": {
          "model_module": "@jupyter-widgets/controls",
          "model_name": "HBoxModel",
          "model_module_version": "1.5.0",
          "state": {
            "_dom_classes": [],
            "_model_module": "@jupyter-widgets/controls",
            "_model_module_version": "1.5.0",
            "_model_name": "HBoxModel",
            "_view_count": null,
            "_view_module": "@jupyter-widgets/controls",
            "_view_module_version": "1.5.0",
            "_view_name": "HBoxView",
            "box_style": "",
            "children": [
              "IPY_MODEL_b5c6c6688ac048d0ae56598c0176c134",
              "IPY_MODEL_605b8b9725584699849f316835ea9ee9",
              "IPY_MODEL_cf04564f77d24e7bafa75492f48cda68"
            ],
            "layout": "IPY_MODEL_87d1c26b77ab4dbc8fe189ef0fdb5c9e"
          }
        },
        "b5c6c6688ac048d0ae56598c0176c134": {
          "model_module": "@jupyter-widgets/controls",
          "model_name": "HTMLModel",
          "model_module_version": "1.5.0",
          "state": {
            "_dom_classes": [],
            "_model_module": "@jupyter-widgets/controls",
            "_model_module_version": "1.5.0",
            "_model_name": "HTMLModel",
            "_view_count": null,
            "_view_module": "@jupyter-widgets/controls",
            "_view_module_version": "1.5.0",
            "_view_name": "HTMLView",
            "description": "",
            "description_tooltip": null,
            "layout": "IPY_MODEL_79e6c285b7bf4187a69e14b36f89e338",
            "placeholder": "​",
            "style": "IPY_MODEL_306f731b30e141dd98c238423f1cd32b",
            "value": "pytorch_model.bin: 100%"
          }
        },
        "605b8b9725584699849f316835ea9ee9": {
          "model_module": "@jupyter-widgets/controls",
          "model_name": "FloatProgressModel",
          "model_module_version": "1.5.0",
          "state": {
            "_dom_classes": [],
            "_model_module": "@jupyter-widgets/controls",
            "_model_module_version": "1.5.0",
            "_model_name": "FloatProgressModel",
            "_view_count": null,
            "_view_module": "@jupyter-widgets/controls",
            "_view_module_version": "1.5.0",
            "_view_name": "ProgressView",
            "bar_style": "success",
            "description": "",
            "description_tooltip": null,
            "layout": "IPY_MODEL_2deee3a6f37a45ce8620b54350bfc643",
            "max": 597257159,
            "min": 0,
            "orientation": "horizontal",
            "style": "IPY_MODEL_07e6073e58f440bb818cfccd0637c034",
            "value": 597257159
          }
        },
        "cf04564f77d24e7bafa75492f48cda68": {
          "model_module": "@jupyter-widgets/controls",
          "model_name": "HTMLModel",
          "model_module_version": "1.5.0",
          "state": {
            "_dom_classes": [],
            "_model_module": "@jupyter-widgets/controls",
            "_model_module_version": "1.5.0",
            "_model_name": "HTMLModel",
            "_view_count": null,
            "_view_module": "@jupyter-widgets/controls",
            "_view_module_version": "1.5.0",
            "_view_name": "HTMLView",
            "description": "",
            "description_tooltip": null,
            "layout": "IPY_MODEL_1aa5de969f7243f9861998cb9314226f",
            "placeholder": "​",
            "style": "IPY_MODEL_4247b788281a4822b03facdb7b9780ba",
            "value": " 597M/597M [00:02&lt;00:00, 269MB/s]"
          }
        },
        "87d1c26b77ab4dbc8fe189ef0fdb5c9e": {
          "model_module": "@jupyter-widgets/base",
          "model_name": "LayoutModel",
          "model_module_version": "1.2.0",
          "state": {
            "_model_module": "@jupyter-widgets/base",
            "_model_module_version": "1.2.0",
            "_model_name": "LayoutModel",
            "_view_count": null,
            "_view_module": "@jupyter-widgets/base",
            "_view_module_version": "1.2.0",
            "_view_name": "LayoutView",
            "align_content": null,
            "align_items": null,
            "align_self": null,
            "border": null,
            "bottom": null,
            "display": null,
            "flex": null,
            "flex_flow": null,
            "grid_area": null,
            "grid_auto_columns": null,
            "grid_auto_flow": null,
            "grid_auto_rows": null,
            "grid_column": null,
            "grid_gap": null,
            "grid_row": null,
            "grid_template_areas": null,
            "grid_template_columns": null,
            "grid_template_rows": null,
            "height": null,
            "justify_content": null,
            "justify_items": null,
            "left": null,
            "margin": null,
            "max_height": null,
            "max_width": null,
            "min_height": null,
            "min_width": null,
            "object_fit": null,
            "object_position": null,
            "order": null,
            "overflow": null,
            "overflow_x": null,
            "overflow_y": null,
            "padding": null,
            "right": null,
            "top": null,
            "visibility": null,
            "width": null
          }
        },
        "79e6c285b7bf4187a69e14b36f89e338": {
          "model_module": "@jupyter-widgets/base",
          "model_name": "LayoutModel",
          "model_module_version": "1.2.0",
          "state": {
            "_model_module": "@jupyter-widgets/base",
            "_model_module_version": "1.2.0",
            "_model_name": "LayoutModel",
            "_view_count": null,
            "_view_module": "@jupyter-widgets/base",
            "_view_module_version": "1.2.0",
            "_view_name": "LayoutView",
            "align_content": null,
            "align_items": null,
            "align_self": null,
            "border": null,
            "bottom": null,
            "display": null,
            "flex": null,
            "flex_flow": null,
            "grid_area": null,
            "grid_auto_columns": null,
            "grid_auto_flow": null,
            "grid_auto_rows": null,
            "grid_column": null,
            "grid_gap": null,
            "grid_row": null,
            "grid_template_areas": null,
            "grid_template_columns": null,
            "grid_template_rows": null,
            "height": null,
            "justify_content": null,
            "justify_items": null,
            "left": null,
            "margin": null,
            "max_height": null,
            "max_width": null,
            "min_height": null,
            "min_width": null,
            "object_fit": null,
            "object_position": null,
            "order": null,
            "overflow": null,
            "overflow_x": null,
            "overflow_y": null,
            "padding": null,
            "right": null,
            "top": null,
            "visibility": null,
            "width": null
          }
        },
        "306f731b30e141dd98c238423f1cd32b": {
          "model_module": "@jupyter-widgets/controls",
          "model_name": "DescriptionStyleModel",
          "model_module_version": "1.5.0",
          "state": {
            "_model_module": "@jupyter-widgets/controls",
            "_model_module_version": "1.5.0",
            "_model_name": "DescriptionStyleModel",
            "_view_count": null,
            "_view_module": "@jupyter-widgets/base",
            "_view_module_version": "1.2.0",
            "_view_name": "StyleView",
            "description_width": ""
          }
        },
        "2deee3a6f37a45ce8620b54350bfc643": {
          "model_module": "@jupyter-widgets/base",
          "model_name": "LayoutModel",
          "model_module_version": "1.2.0",
          "state": {
            "_model_module": "@jupyter-widgets/base",
            "_model_module_version": "1.2.0",
            "_model_name": "LayoutModel",
            "_view_count": null,
            "_view_module": "@jupyter-widgets/base",
            "_view_module_version": "1.2.0",
            "_view_name": "LayoutView",
            "align_content": null,
            "align_items": null,
            "align_self": null,
            "border": null,
            "bottom": null,
            "display": null,
            "flex": null,
            "flex_flow": null,
            "grid_area": null,
            "grid_auto_columns": null,
            "grid_auto_flow": null,
            "grid_auto_rows": null,
            "grid_column": null,
            "grid_gap": null,
            "grid_row": null,
            "grid_template_areas": null,
            "grid_template_columns": null,
            "grid_template_rows": null,
            "height": null,
            "justify_content": null,
            "justify_items": null,
            "left": null,
            "margin": null,
            "max_height": null,
            "max_width": null,
            "min_height": null,
            "min_width": null,
            "object_fit": null,
            "object_position": null,
            "order": null,
            "overflow": null,
            "overflow_x": null,
            "overflow_y": null,
            "padding": null,
            "right": null,
            "top": null,
            "visibility": null,
            "width": null
          }
        },
        "07e6073e58f440bb818cfccd0637c034": {
          "model_module": "@jupyter-widgets/controls",
          "model_name": "ProgressStyleModel",
          "model_module_version": "1.5.0",
          "state": {
            "_model_module": "@jupyter-widgets/controls",
            "_model_module_version": "1.5.0",
            "_model_name": "ProgressStyleModel",
            "_view_count": null,
            "_view_module": "@jupyter-widgets/base",
            "_view_module_version": "1.2.0",
            "_view_name": "StyleView",
            "bar_color": null,
            "description_width": ""
          }
        },
        "1aa5de969f7243f9861998cb9314226f": {
          "model_module": "@jupyter-widgets/base",
          "model_name": "LayoutModel",
          "model_module_version": "1.2.0",
          "state": {
            "_model_module": "@jupyter-widgets/base",
            "_model_module_version": "1.2.0",
            "_model_name": "LayoutModel",
            "_view_count": null,
            "_view_module": "@jupyter-widgets/base",
            "_view_module_version": "1.2.0",
            "_view_name": "LayoutView",
            "align_content": null,
            "align_items": null,
            "align_self": null,
            "border": null,
            "bottom": null,
            "display": null,
            "flex": null,
            "flex_flow": null,
            "grid_area": null,
            "grid_auto_columns": null,
            "grid_auto_flow": null,
            "grid_auto_rows": null,
            "grid_column": null,
            "grid_gap": null,
            "grid_row": null,
            "grid_template_areas": null,
            "grid_template_columns": null,
            "grid_template_rows": null,
            "height": null,
            "justify_content": null,
            "justify_items": null,
            "left": null,
            "margin": null,
            "max_height": null,
            "max_width": null,
            "min_height": null,
            "min_width": null,
            "object_fit": null,
            "object_position": null,
            "order": null,
            "overflow": null,
            "overflow_x": null,
            "overflow_y": null,
            "padding": null,
            "right": null,
            "top": null,
            "visibility": null,
            "width": null
          }
        },
        "4247b788281a4822b03facdb7b9780ba": {
          "model_module": "@jupyter-widgets/controls",
          "model_name": "DescriptionStyleModel",
          "model_module_version": "1.5.0",
          "state": {
            "_model_module": "@jupyter-widgets/controls",
            "_model_module_version": "1.5.0",
            "_model_name": "DescriptionStyleModel",
            "_view_count": null,
            "_view_module": "@jupyter-widgets/base",
            "_view_module_version": "1.2.0",
            "_view_name": "StyleView",
            "description_width": ""
          }
        }
      }
    }
  },
  "cells": [
    {
      "cell_type": "markdown",
      "metadata": {
        "id": "view-in-github",
        "colab_type": "text"
      },
      "source": [
        "<a href=\"https://colab.research.google.com/github/minerva79/medt_nlp/blob/main/MIMIC_IV_multi_label_classification_model.ipynb\" target=\"_parent\"><img src=\"https://colab.research.google.com/assets/colab-badge.svg\" alt=\"Open In Colab\"/></a>"
      ]
    },
    {
      "cell_type": "code",
      "source": [
        "from google.colab import drive\n",
        "drive.mount('/content/drive')"
      ],
      "metadata": {
        "colab": {
          "base_uri": "https://localhost:8080/"
        },
        "id": "-7Yz1-1m-d-r",
        "outputId": "e8ec4ffa-be6c-44de-e89f-1a61e7e0f786"
      },
      "execution_count": null,
      "outputs": [
        {
          "output_type": "stream",
          "name": "stdout",
          "text": [
            "Mounted at /content/drive\n"
          ]
        }
      ]
    },
    {
      "cell_type": "code",
      "execution_count": null,
      "metadata": {
        "id": "En9cX_d078AZ",
        "colab": {
          "base_uri": "https://localhost:8080/"
        },
        "outputId": "05a41ede-e4fe-4aa2-c5a6-d4b44ba60578"
      },
      "outputs": [
        {
          "output_type": "stream",
          "name": "stdout",
          "text": [
            "Mon Feb 19 13:38:18 2024       \n",
            "+---------------------------------------------------------------------------------------+\n",
            "| NVIDIA-SMI 535.104.05             Driver Version: 535.104.05   CUDA Version: 12.2     |\n",
            "|-----------------------------------------+----------------------+----------------------+\n",
            "| GPU  Name                 Persistence-M | Bus-Id        Disp.A | Volatile Uncorr. ECC |\n",
            "| Fan  Temp   Perf          Pwr:Usage/Cap |         Memory-Usage | GPU-Util  Compute M. |\n",
            "|                                         |                      |               MIG M. |\n",
            "|=========================================+======================+======================|\n",
            "|   0  NVIDIA A100-SXM4-40GB          Off | 00000000:00:04.0 Off |                    0 |\n",
            "| N/A   39C    P0              48W / 400W |      2MiB / 40960MiB |      0%      Default |\n",
            "|                                         |                      |             Disabled |\n",
            "+-----------------------------------------+----------------------+----------------------+\n",
            "                                                                                         \n",
            "+---------------------------------------------------------------------------------------+\n",
            "| Processes:                                                                            |\n",
            "|  GPU   GI   CI        PID   Type   Process name                            GPU Memory |\n",
            "|        ID   ID                                                             Usage      |\n",
            "|=======================================================================================|\n",
            "|  No running processes found                                                           |\n",
            "+---------------------------------------------------------------------------------------+\n"
          ]
        }
      ],
      "source": [
        "gpu_info = !nvidia-smi\n",
        "gpu_info = '\\n'.join(gpu_info)\n",
        "if gpu_info.find('failed') >= 0:\n",
        "  print('Not connected to a GPU')\n",
        "else:\n",
        "  print(gpu_info)"
      ]
    },
    {
      "cell_type": "code",
      "source": [
        "from psutil import virtual_memory\n",
        "ram_gb = virtual_memory().total / 1e9\n",
        "print('Your runtime has {:.1f} gigabytes of available RAM\\n'.format(ram_gb))\n",
        "\n",
        "if ram_gb < 20:\n",
        "  print('Not using a high-RAM runtime')\n",
        "else:\n",
        "  print('You are using a high-RAM runtime!')"
      ],
      "metadata": {
        "id": "g6hVlKSA794-",
        "colab": {
          "base_uri": "https://localhost:8080/"
        },
        "outputId": "87757c78-f722-4c9f-d874-f427a771b869"
      },
      "execution_count": null,
      "outputs": [
        {
          "output_type": "stream",
          "name": "stdout",
          "text": [
            "Your runtime has 89.6 gigabytes of available RAM\n",
            "\n",
            "You are using a high-RAM runtime!\n"
          ]
        }
      ]
    },
    {
      "cell_type": "code",
      "source": [
        "import pandas as pd\n",
        "\n",
        "# Load the pickle file into a pandas DataFrame\n",
        "combined_df = pd.read_pickle(\"/content/drive/MyDrive/combined_df.pkl\")"
      ],
      "metadata": {
        "id": "EDVvHMq57_YN"
      },
      "execution_count": null,
      "outputs": []
    },
    {
      "cell_type": "code",
      "source": [
        "import pandas as pd\n",
        "\n",
        "# Assuming combined_df is your DataFrame and 'y' is the column with labels\n",
        "combined_df = combined_df[combined_df['y'].apply(lambda x: len(x) <= 1)]"
      ],
      "metadata": {
        "id": "-OZmhrWvdlge"
      },
      "execution_count": null,
      "outputs": []
    },
    {
      "cell_type": "code",
      "source": [
        "from sklearn.model_selection import train_test_split\n",
        "\n",
        "train_df, val_df = train_test_split(combined_df, test_size=0.2)\n"
      ],
      "metadata": {
        "id": "HWsNRzsb_XQP"
      },
      "execution_count": null,
      "outputs": []
    },
    {
      "cell_type": "code",
      "source": [
        "import torch\n",
        "from torch.utils.data import TensorDataset\n",
        "\n",
        "def create_dataset(df):\n",
        "    input_ids = list(df['input_ids'])\n",
        "    attention_masks = list(df['attention_mask'])\n",
        "    # Directly reference the label columns\n",
        "    label_columns = ['anemia', 'atrial fibrillation', 'hyperlipidemia', 'hypertension', 'pneumonia']\n",
        "    labels = df[label_columns].values\n",
        "\n",
        "    return TensorDataset(torch.stack(input_ids), torch.stack(attention_masks), torch.tensor(labels, dtype=torch.float))\n",
        "\n",
        "train_dataset = create_dataset(train_df)\n",
        "val_dataset = create_dataset(val_df)"
      ],
      "metadata": {
        "id": "yqiEAmGv8Atf"
      },
      "execution_count": null,
      "outputs": []
    },
    {
      "cell_type": "code",
      "source": [
        "from torch.utils.data import SubsetRandomSampler\n",
        "from torch.utils.data import DataLoader\n",
        "import numpy as np\n",
        "\n",
        "# Set the batch size\n",
        "batch_size = 2 # Adjust based on your GPU memory\n",
        "\n",
        "# Randomly sample indices for a subset of the validation set\n",
        "subset_indices = np.random.choice(len(val_dataset), size=int(0.5 * len(val_dataset)), replace=False)\n",
        "sampler = SubsetRandomSampler(subset_indices)\n",
        "\n",
        "validation_dataloader_sub = DataLoader(val_dataset, batch_size=batch_size, sampler=sampler)\n",
        "\n",
        "# Randomly sample indices for a subset of the validation set\n",
        "subset_indices = np.random.choice(len(train_dataset), size=int(0.5 * len(train_dataset)), replace=False)\n",
        "sampler = SubsetRandomSampler(subset_indices)\n",
        "\n",
        "train_dataloader_sub = DataLoader(train_dataset, batch_size=batch_size, sampler=sampler)"
      ],
      "metadata": {
        "id": "yNO_Nha0KmFI"
      },
      "execution_count": null,
      "outputs": []
    },
    {
      "cell_type": "code",
      "source": [
        "from torch.utils.data import DataLoader, RandomSampler, SequentialSampler\n",
        "\n",
        "batch_size = 4 # Adjust based on your GPU memory\n",
        "\n",
        "train_dataloader = DataLoader(train_dataset, sampler=RandomSampler(train_dataset), batch_size=batch_size)\n",
        "validation_dataloader = DataLoader(val_dataset, sampler=SequentialSampler(val_dataset), batch_size=batch_size)\n"
      ],
      "metadata": {
        "id": "NIUPtDKW8CEc"
      },
      "execution_count": null,
      "outputs": []
    },
    {
      "cell_type": "code",
      "source": [
        "from transformers import LongformerForSequenceClassification\n",
        "\n",
        "model = LongformerForSequenceClassification.from_pretrained('allenai/longformer-base-4096', num_labels=5)\n",
        "model.to(torch.device('cuda' if torch.cuda.is_available() else 'cpu'))\n"
      ],
      "metadata": {
        "id": "uNHlopcF8DUq",
        "colab": {
          "base_uri": "https://localhost:8080/",
          "height": 1000,
          "referenced_widgets": [
            "c7d3df462e24435d87155ef3bc695f96",
            "5aa6d22bcdeb456f82af7144460191b7",
            "2d69f78f4b564415931a9e25207d93e0",
            "99b2a2cb6b0f41fc94d7828964b41d07",
            "fac788fac64c41768702d0b8de6a0e2e",
            "6e9efdbc5a5c432bb7e5315f0f49fd85",
            "677df3562124406c93959dd3212f8731",
            "5afbfe9d82214b7d9357c24d22f92f2b",
            "9cc6cdb77b41492fa0d332cddff725a5",
            "c4f8811fddff4c10ad90fe33a90d407b",
            "50099c1118db41cbbc24e38ba7f99ba1",
            "34ed4e57e33844aeb1eba7e70daff2f6",
            "b5c6c6688ac048d0ae56598c0176c134",
            "605b8b9725584699849f316835ea9ee9",
            "cf04564f77d24e7bafa75492f48cda68",
            "87d1c26b77ab4dbc8fe189ef0fdb5c9e",
            "79e6c285b7bf4187a69e14b36f89e338",
            "306f731b30e141dd98c238423f1cd32b",
            "2deee3a6f37a45ce8620b54350bfc643",
            "07e6073e58f440bb818cfccd0637c034",
            "1aa5de969f7243f9861998cb9314226f",
            "4247b788281a4822b03facdb7b9780ba"
          ]
        },
        "outputId": "c2d10bf5-c074-4356-d242-e1b9afa0a4f9"
      },
      "execution_count": null,
      "outputs": [
        {
          "output_type": "stream",
          "name": "stderr",
          "text": [
            "/usr/local/lib/python3.10/dist-packages/huggingface_hub/utils/_token.py:88: UserWarning: \n",
            "The secret `HF_TOKEN` does not exist in your Colab secrets.\n",
            "To authenticate with the Hugging Face Hub, create a token in your settings tab (https://huggingface.co/settings/tokens), set it as secret in your Google Colab and restart your session.\n",
            "You will be able to reuse this secret in all of your notebooks.\n",
            "Please note that authentication is recommended but still optional to access public models or datasets.\n",
            "  warnings.warn(\n"
          ]
        },
        {
          "output_type": "display_data",
          "data": {
            "text/plain": [
              "config.json:   0%|          | 0.00/694 [00:00<?, ?B/s]"
            ],
            "application/vnd.jupyter.widget-view+json": {
              "version_major": 2,
              "version_minor": 0,
              "model_id": "c7d3df462e24435d87155ef3bc695f96"
            }
          },
          "metadata": {}
        },
        {
          "output_type": "display_data",
          "data": {
            "text/plain": [
              "pytorch_model.bin:   0%|          | 0.00/597M [00:00<?, ?B/s]"
            ],
            "application/vnd.jupyter.widget-view+json": {
              "version_major": 2,
              "version_minor": 0,
              "model_id": "34ed4e57e33844aeb1eba7e70daff2f6"
            }
          },
          "metadata": {}
        },
        {
          "output_type": "stream",
          "name": "stderr",
          "text": [
            "Some weights of LongformerForSequenceClassification were not initialized from the model checkpoint at allenai/longformer-base-4096 and are newly initialized: ['classifier.out_proj.weight', 'classifier.dense.bias', 'classifier.out_proj.bias', 'classifier.dense.weight']\n",
            "You should probably TRAIN this model on a down-stream task to be able to use it for predictions and inference.\n"
          ]
        },
        {
          "output_type": "execute_result",
          "data": {
            "text/plain": [
              "LongformerForSequenceClassification(\n",
              "  (longformer): LongformerModel(\n",
              "    (embeddings): LongformerEmbeddings(\n",
              "      (word_embeddings): Embedding(50265, 768, padding_idx=1)\n",
              "      (token_type_embeddings): Embedding(1, 768)\n",
              "      (LayerNorm): LayerNorm((768,), eps=1e-05, elementwise_affine=True)\n",
              "      (dropout): Dropout(p=0.1, inplace=False)\n",
              "      (position_embeddings): Embedding(4098, 768, padding_idx=1)\n",
              "    )\n",
              "    (encoder): LongformerEncoder(\n",
              "      (layer): ModuleList(\n",
              "        (0-11): 12 x LongformerLayer(\n",
              "          (attention): LongformerAttention(\n",
              "            (self): LongformerSelfAttention(\n",
              "              (query): Linear(in_features=768, out_features=768, bias=True)\n",
              "              (key): Linear(in_features=768, out_features=768, bias=True)\n",
              "              (value): Linear(in_features=768, out_features=768, bias=True)\n",
              "              (query_global): Linear(in_features=768, out_features=768, bias=True)\n",
              "              (key_global): Linear(in_features=768, out_features=768, bias=True)\n",
              "              (value_global): Linear(in_features=768, out_features=768, bias=True)\n",
              "            )\n",
              "            (output): LongformerSelfOutput(\n",
              "              (dense): Linear(in_features=768, out_features=768, bias=True)\n",
              "              (LayerNorm): LayerNorm((768,), eps=1e-05, elementwise_affine=True)\n",
              "              (dropout): Dropout(p=0.1, inplace=False)\n",
              "            )\n",
              "          )\n",
              "          (intermediate): LongformerIntermediate(\n",
              "            (dense): Linear(in_features=768, out_features=3072, bias=True)\n",
              "            (intermediate_act_fn): GELUActivation()\n",
              "          )\n",
              "          (output): LongformerOutput(\n",
              "            (dense): Linear(in_features=3072, out_features=768, bias=True)\n",
              "            (LayerNorm): LayerNorm((768,), eps=1e-05, elementwise_affine=True)\n",
              "            (dropout): Dropout(p=0.1, inplace=False)\n",
              "          )\n",
              "        )\n",
              "      )\n",
              "    )\n",
              "  )\n",
              "  (classifier): LongformerClassificationHead(\n",
              "    (dense): Linear(in_features=768, out_features=768, bias=True)\n",
              "    (dropout): Dropout(p=0.1, inplace=False)\n",
              "    (out_proj): Linear(in_features=768, out_features=5, bias=True)\n",
              "  )\n",
              ")"
            ]
          },
          "metadata": {},
          "execution_count": 9
        }
      ]
    },
    {
      "cell_type": "code",
      "source": [
        "# Set the device\n",
        "device = torch.device(\"cuda\" if torch.cuda.is_available() else \"cpu\")\n",
        "print(\"Using device: \", device)"
      ],
      "metadata": {
        "id": "KUIg-NHC8E0m",
        "colab": {
          "base_uri": "https://localhost:8080/"
        },
        "outputId": "124e7dbd-4524-49e5-a396-f69af2d209a7"
      },
      "execution_count": null,
      "outputs": [
        {
          "output_type": "stream",
          "name": "stdout",
          "text": [
            "Using device:  cuda\n"
          ]
        }
      ]
    },
    {
      "cell_type": "code",
      "source": [
        "from transformers import AdamW, get_linear_schedule_with_warmup\n",
        "num_epochs = 3\n",
        "optimizer = AdamW(model.parameters(), lr=1e-5)  # Learning rate\n",
        "#optimizer = torch.optim.SGD(model.parameters(), lr=5e-6)\n",
        "\n",
        "total_steps = len(train_dataloader) * num_epochs  # Number of training epochs\n",
        "scheduler = get_linear_schedule_with_warmup(optimizer, num_warmup_steps=0, num_training_steps=total_steps)"
      ],
      "metadata": {
        "id": "tKSniUv18GMH",
        "colab": {
          "base_uri": "https://localhost:8080/"
        },
        "outputId": "52e8ac9e-f2ee-4308-bb28-cd0a5558897d"
      },
      "execution_count": null,
      "outputs": [
        {
          "output_type": "stream",
          "name": "stderr",
          "text": [
            "/usr/local/lib/python3.10/dist-packages/transformers/optimization.py:411: FutureWarning: This implementation of AdamW is deprecated and will be removed in a future version. Use the PyTorch implementation torch.optim.AdamW instead, or set `no_deprecation_warning=True` to disable this warning\n",
            "  warnings.warn(\n"
          ]
        }
      ]
    },
    {
      "cell_type": "code",
      "source": [
        "from sklearn.metrics import f1_score, precision_score, recall_score, hamming_loss\n",
        "import torch\n",
        "import numpy as np\n",
        "\n",
        "def train(model, train_dataloader, validation_dataloader, optimizer, scheduler, accumulation_steps, num_epochs=3):\n",
        "    for epoch_i in range(num_epochs):\n",
        "        # Training\n",
        "        model.train()\n",
        "        total_train_loss = 0\n",
        "        optimizer.zero_grad()\n",
        "\n",
        "        for step, batch in enumerate(train_dataloader):\n",
        "            b_input_ids = batch[0].to(device)\n",
        "            b_input_mask = batch[1].to(device)\n",
        "            b_labels = batch[2].to(device)\n",
        "\n",
        "            outputs = model(b_input_ids, token_type_ids=None, attention_mask=b_input_mask, labels=b_labels)\n",
        "            loss = outputs.loss / accumulation_steps  # Normalize the loss since it is averaged\n",
        "            total_train_loss += loss.item()\n",
        "\n",
        "            loss.backward()\n",
        "\n",
        "            # Perform optimization step every `accumulation_steps` batches\n",
        "            if (step + 1) % accumulation_steps == 0 or (step + 1) == len(train_dataloader):\n",
        "                optimizer.step()\n",
        "                scheduler.step()\n",
        "                optimizer.zero_grad()\n",
        "\n",
        "        avg_train_loss = total_train_loss / len(train_dataloader)\n",
        "        print(f\"Epoch {epoch_i + 1} | Average Training Loss: {avg_train_loss}\")\n",
        "\n",
        "        # Validation\n",
        "        model.eval()\n",
        "        all_predictions = []\n",
        "        all_true_labels = []\n",
        "\n",
        "        for batch in validation_dataloader:\n",
        "            b_input_ids = batch[0].to(device)\n",
        "            b_input_mask = batch[1].to(device)\n",
        "            b_labels = batch[2].to(device)\n",
        "\n",
        "            with torch.no_grad():\n",
        "                outputs = model(b_input_ids, token_type_ids=None, attention_mask=b_input_mask)\n",
        "\n",
        "            # Apply sigmoid and threshold\n",
        "            probabilities = torch.sigmoid(outputs.logits)\n",
        "            predictions = (probabilities > 0.5).int()\n",
        "\n",
        "            # Move predictions and labels to CPU\n",
        "            predictions = predictions.detach().cpu().numpy()\n",
        "            label_ids = b_labels.to('cpu').numpy()\n",
        "\n",
        "            # Store predictions and true labels\n",
        "            all_predictions.append(predictions)\n",
        "            all_true_labels.append(label_ids)\n",
        "\n",
        "        # Convert list of arrays to single numpy arrays\n",
        "        all_predictions = np.vstack(all_predictions)\n",
        "        all_true_labels = np.vstack(all_true_labels)\n",
        "\n",
        "        # Calculate evaluation metrics\n",
        "        f1 = f1_score(all_true_labels, all_predictions, average='weighted')\n",
        "        precision = precision_score(all_true_labels, all_predictions, average='weighted')\n",
        "        recall = recall_score(all_true_labels, all_predictions, average='weighted')\n",
        "        hammingloss = hamming_loss(all_true_labels, all_predictions)\n",
        "\n",
        "        print(f\"Epoch {epoch_i + 1} | Validation F1-Score: {f1}\")\n",
        "        print(f\"Epoch {epoch_i + 1} | Validation Precision: {precision}\")\n",
        "        print(f\"Epoch {epoch_i + 1} | Validation Recall: {recall}\")\n",
        "        print(f\"Epoch {epoch_i + 1} | Validation Hamming Loss: {hammingloss}\")\n",
        "\n",
        "# Call the train function\n",
        "train(model, train_dataloader, validation_dataloader, optimizer, scheduler, accumulation_steps=2, num_epochs=1)"
      ],
      "metadata": {
        "id": "UXDYL3aG8HxN",
        "colab": {
          "base_uri": "https://localhost:8080/"
        },
        "outputId": "1198983f-1a33-4675-91e8-f81990bf2a5e"
      },
      "execution_count": null,
      "outputs": [
        {
          "output_type": "stream",
          "name": "stdout",
          "text": [
            "Epoch 1 | Average Training Loss: 0.1797786564535151\n",
            "Epoch 1 | Validation F1-Score: 0.9554680214609808\n",
            "Epoch 1 | Validation Precision: 0.9580397798560104\n",
            "Epoch 1 | Validation Recall: 0.9530938123752495\n",
            "Epoch 1 | Validation Hamming Loss: 0.014833333333333334\n"
          ]
        }
      ]
    },
    {
      "cell_type": "code",
      "source": [
        "#from google.colab import drive\n",
        "#drive.mount('/content/drive')\n",
        "\n",
        "torch.save(model.state_dict(), '/content/drive/My Drive/model_state_dict.pt')\n",
        "torch.save(model, '/content/drive/My Drive/entire_model.pt')\n"
      ],
      "metadata": {
        "id": "5DF1_0KrAwpm"
      },
      "execution_count": null,
      "outputs": []
    },
    {
      "cell_type": "code",
      "source": [
        "from torch.utils.data import Subset\n",
        "\n",
        "# Assuming validation_dataloader uses a dataset named val_dataset\n",
        "num_examples = 10\n",
        "subset_indices = range(num_examples)\n",
        "validation_dataloader_subw = DataLoader(Subset(val_dataset, subset_indices), batch_size=batch_size)\n",
        "\n",
        "model.eval()  # Set the model to evaluation mode\n",
        "\n",
        "examples_predicted_labels = []\n",
        "examples_true_labels = []\n",
        "\n",
        "for batch in validation_dataloader_subw:\n",
        "    b_input_ids = batch[0].to(device)\n",
        "    b_input_mask = batch[1].to(device)\n",
        "    b_labels = batch[2].to(device)\n",
        "\n",
        "    with torch.no_grad():\n",
        "        outputs = model(b_input_ids, token_type_ids=None, attention_mask=b_input_mask)\n",
        "\n",
        "    # Apply sigmoid and threshold for multi-label classification\n",
        "    probabilities = torch.sigmoid(outputs.logits)\n",
        "    predictions = (probabilities > 0.5).int()\n",
        "\n",
        "    # Store predictions and labels\n",
        "    examples_predicted_labels.append(predictions.detach().cpu().numpy())\n",
        "    examples_true_labels.append(b_labels.detach().cpu().numpy())\n",
        "\n",
        "    # Break the loop if we've already got 10 examples\n",
        "    if len(examples_predicted_labels) * batch_size >= num_examples:\n",
        "        break\n",
        "\n",
        "# Flatten the lists and slice to get only 10 examples\n",
        "examples_predicted_labels = np.vstack(examples_predicted_labels)[:num_examples]\n",
        "examples_true_labels = np.vstack(examples_true_labels)[:num_examples]\n",
        "\n",
        "# Display the results\n",
        "print(\"Displaying 10 examples of true labels and predicted labels:\")\n",
        "for i in range(num_examples):\n",
        "    print(f\"Example {i+1}\")\n",
        "    print(f\"True Labels: {examples_true_labels[i]}\")\n",
        "    print(f\"Predicted Labels: {examples_predicted_labels[i]}\\n\")\n"
      ],
      "metadata": {
        "id": "ZHm_tG9-OlF1",
        "colab": {
          "base_uri": "https://localhost:8080/"
        },
        "outputId": "af864804-5fe0-49ca-cae6-3bb3d050b35a"
      },
      "execution_count": null,
      "outputs": [
        {
          "output_type": "stream",
          "name": "stdout",
          "text": [
            "Displaying 10 examples of true labels and predicted labels:\n",
            "Example 1\n",
            "True Labels: [0. 0. 0. 1. 0.]\n",
            "Predicted Labels: [0 0 0 1 0]\n",
            "\n",
            "Example 2\n",
            "True Labels: [0. 0. 0. 1. 0.]\n",
            "Predicted Labels: [0 0 0 1 0]\n",
            "\n",
            "Example 3\n",
            "True Labels: [0. 0. 1. 0. 0.]\n",
            "Predicted Labels: [0 0 1 0 0]\n",
            "\n",
            "Example 4\n",
            "True Labels: [1. 0. 0. 0. 0.]\n",
            "Predicted Labels: [1 0 0 0 0]\n",
            "\n",
            "Example 5\n",
            "True Labels: [0. 0. 0. 0. 0.]\n",
            "Predicted Labels: [0 0 0 0 0]\n",
            "\n",
            "Example 6\n",
            "True Labels: [0. 0. 0. 0. 1.]\n",
            "Predicted Labels: [0 0 0 0 1]\n",
            "\n",
            "Example 7\n",
            "True Labels: [0. 0. 1. 0. 0.]\n",
            "Predicted Labels: [0 1 0 0 0]\n",
            "\n",
            "Example 8\n",
            "True Labels: [0. 0. 0. 1. 0.]\n",
            "Predicted Labels: [0 0 0 1 0]\n",
            "\n",
            "Example 9\n",
            "True Labels: [0. 0. 0. 1. 0.]\n",
            "Predicted Labels: [0 0 0 1 0]\n",
            "\n",
            "Example 10\n",
            "True Labels: [0. 0. 1. 0. 0.]\n",
            "Predicted Labels: [0 0 1 0 0]\n",
            "\n"
          ]
        }
      ]
    },
    {
      "cell_type": "code",
      "source": [
        "# Extract the first 5 examples from val_df\n",
        "examples_text = val_df.iloc[:5]['text']  # Replace 'input_column' with the actual column name\n",
        "label_columns = ['anemia', 'atrial fibrillation', 'hyperlipidemia', 'hypertension', 'pneumonia']\n",
        "examples_true_labels = val_df.iloc[:5][label_columns].values\n",
        "\n",
        "# Create a subset DataLoader for the first 5 examples\n",
        "subset_indices = range(5)\n",
        "validation_dataloader_sub = DataLoader(Subset(val_dataset, subset_indices), batch_size=1)\n",
        "\n",
        "model.eval()  # Set the model to evaluation mode\n",
        "\n",
        "examples_predicted_labels = []\n",
        "\n",
        "for batch in validation_dataloader_sub:\n",
        "    b_input_ids = batch[0].to(device)\n",
        "    b_input_mask = batch[1].to(device)\n",
        "\n",
        "    with torch.no_grad():\n",
        "        outputs = model(b_input_ids, token_type_ids=None, attention_mask=b_input_mask)\n",
        "\n",
        "    probabilities = torch.sigmoid(outputs.logits)\n",
        "    predictions = (probabilities > 0.5).int()\n",
        "\n",
        "    examples_predicted_labels.append(predictions.detach().cpu().numpy())\n",
        "\n",
        "# Flatten the predictions list\n",
        "examples_predicted_labels = np.vstack(examples_predicted_labels)\n",
        "\n",
        "# Display the results\n",
        "print(\"Displaying 5 examples of input text, true labels, and predicted labels:\")\n",
        "for i in range(5):\n",
        "    print(f\"Example {i+1}\")\n",
        "    print(f\"Input Text: {examples_text.iloc[i]}\")\n",
        "    print(f\"True Labels: {examples_true_labels[i]}\")\n",
        "    print(f\"Predicted Labels: {examples_predicted_labels[i]}\\n\")\n"
      ],
      "metadata": {
        "id": "nQ-UPaq5PEms",
        "colab": {
          "base_uri": "https://localhost:8080/"
        },
        "outputId": "ee482192-3c42-48ad-8ec4-0ce18a98a20d"
      },
      "execution_count": null,
      "outputs": [
        {
          "output_type": "stream",
          "name": "stdout",
          "text": [
            "Displaying 5 examples of input text, true labels, and predicted labels:\n",
            "Example 1\n",
            "Input Text: name unit admission date discharge date date birth sex service medicine allergies ibuprofen nsaids attending chief complaint syncopal episode major surgical invasive procedure none history present illness mr. year-old man idiopathic pulmonary fibrosis emphysema complicated pulmonary hypertension thus requiring home oxygen 4l via nasal cannula transferred icu evaluation management hypoxemia contacted dr. phone report progressive dyspnea exertion resting o2sat 92 4 l desaturation 70 's exertion unable come hospital evaluation time subsequently admitted osh following syncopal episode walking stairs using supplemental oxygen began feel lightheaded top steps walked steps bedroom put arms towards bed lost consciousness wife witnessed bang side face dresser bleeding currently pain next thing remembers paramedics arrived home denies prodromal chest pain palpitations shortness breath nausea although reports progressive dyspnea exertion ever since stopping prednisone 3 weeks prior admission natural history illness longer clubbing several years standing shortness breath year attributed past smoking possible occupational exposures thought resulted chronic obstructive pulmonary disease worked several contexts ball later cleaning injection moulds solvents exposures likely included formalin 1,1,1-trichloroethane symptoms worse past week becomes short breath walking 10 feet chronic cough unchanged fever chills headache rhinorrhea sore throat myalgias arthralgias wheezing abdominal pain vomiting diarrhea sick contacts received pneumococcal influenza vaccines upon arrival osh required 50 o2 via face mask desaturated 70-80s exertion treated lasix nebulized bronchodilators chest x-ray reportedly show infiltrate labs revealed tropi 0.029 followed 0.04 normal ckmb 0.5 normal 5.3 wbc 7.7 hct 37.5 plt 226 co2 20 bun 23 cr 2.0 na 140 k 3.7. vital signs prior transfer 98.1 100 30 124/58 94 50 fm past medical history 1. idiopathic pulmonary fibrosis diagnosed lung biopsy prior admission 4l home o2 2. emphysema 3. pulmonary hypertension 4. mild osa 5. chronic kidney disease baseline cr ~1.6 6. bladder ca diagnosed s/p fulguration intravesicular chemotherapy 7. peripheral arterial disease lower extremity claudication 8. benign prostatic hypertrophy 9. hypertension 10.gout social history family history mother passed away leukemia father smoker passed away lung cancer children hyperlidemia diabetes physical exam vital signs wt 125 kg 97.0 bp 135/79 hr 109 rr 23 02sat 95 100 nrb general well-appearing obese man respiration mildly labored heent oropharynx clear dry mucus membranes neck supple jvd difficult assess due habitus lymphadenopathy cardiac regular tachycardic normal s1 loud p2 murmurs rubs gallop lungs bibasilar dry crackles wheeze/rhonchi abdomen soft obese nontender nondistended bowel sounds present ext warm dry peripheral pulses 1+ feet 1+ pitting edema 2+ clubbing neuro alert oriented place time person cn ii-xii intact gait normal limited severely reduced exercise tolerance gross motor exam normal sensation grossly intact light touch day discharge findings unchanges except vital signs 97.2 144/81 69 bpm 20 rr 94 6l nasal mucus membranes dry pertinent results admission labs 09:35pm wbc-8.2 rbc-3.66 hgb-12.5 hct-36.4 mcv-100 mch-34.2 mchc-34.3 rdw-15.4 09:35pm plt count-226 09:35pm glucose-124 urea n-21 creat-1.8 sodium-141 potassium-4.9 chloride-109 total co2-22 anion gap-15 09:35pm calcium-8.8 phosphate-2.5 magnesium-2.1 09:17pm lactate-2.1 09:17pm type-art temp-36.1 fio2-100 po2-149 pco2-31 ph-7.46 caltco2-23 base xs-0 aado2-533 req o2-89 intubat-not intuba comment-non-rebrea discharge labs 06:40am wbc-6.9 rbc-3.74 hgb-12.6 hct-36.9 mcv-99 mch-33.5 mchc-34.0 rdw-14.7 plt 06:40am plt 06:40am glucose-184 urean-38 creat-1.6 na-139 k-4.1 cl-104 hco3-25 angap-14 04:03am ck cpk -66 06:20am calcium-8.6 phos-3.8 mg-2.3 studies ekg sinus rhythm ventricular premature beat modest st-t wave changes non-specific since previous tracing findings outlined present cxr impression evidence acute pulmonary abnormalities unchanged appearance chest findings corresponding patient 's known ipf ct impression 1 pulmonary embolism aortic dissection aneurysm 2 significant progression predominantly subpleural abnormality associated traction bronchiolectasis reticulation new diffuse ground-glass opacities presence significant enlargement hilar mediastinal lymph nodes worrying acute progression ipf-uip 3 borderline pulmonary arterial enlargement suggests mild pulmonary arterial hypertension study report reviewed staff radiologist echo impression suboptimal image quality severe pulmonary artery systolic hypertension right ventricular cavity enlargement free wall hypokinesis findings suggestive primary pulmonary process brief hospital course mr year-old man 'idiopathic pulmonary fibrosis hypertension emphysema complicated pulmonary hypertension home oxygen transferred osh admitted following syncopal episode evaluation management hypoxemia pulmonary fibrosis time admission mr supported medical icu maintained subsequently weaned 50 face mask 6l nasal cannulae time transfer floor likely new oxygen requirement home high dose steroids started 1g solu-medrol per iv divided 250 mg qid continued three days discharged taper starting 100 mg po prednisone daily ct pulmonary fibrosis appears progressed since diagnosed unfortunately longer eligible transplant given carcinoma positive bladder biopsy hypoxemia suspected acute exacerbation pulmonary fibrosis evidence underlying infection left heart failure continued acetylcysteine advair symbicort spiriva echo cardiography also performed see right heart cath considered performed syncopal event likely due acute hyperventilation and/or hypoxemia ruled mi serial cardiac enzymes precaution etoh abuse mr. initially ciwa scale micu perhaps precaution necessity unclear given patient reports drinking alcohol containing beverages per day chronic kidney disease creatinine returned baseline discharge mildly elevated admission gout stable hypertension well-controlled admission medications admission 1. albuterol sulfate ventolin hfa 90 mcg hfa aerosol inhaler 2 puff four times day needed shortness breath 2. budesonide-formoterol symbicort prescribed provider 80 mcg-4.5 mcg/actuation hfa aerosol inhaler 2 puff twice day 3. furosemide 20 mg tablet 1 tablet mouth daily 4. lisinopril prescribed provider 10 mg tablet 1 tablet mouth daily 5. tiotropium bromide spiriva handihaler prescribed provider 18 mcg capsule w/inhalation device 2 puff daily 6. acetylcysteine nac 600 mg capsule 1 capsule mouth twice daily 7. calcium carbonate-vitamin d3 500 mg 1,250 mg -200 unit tablet 1 tablet mouth twice daily discharge medications 1. please change patient 's oxygen flow six liters 2. tiotropium bromide 18 mcg capsule w/inhalation device sig one 1 cap inhalation daily daily cap 3. albuterol sulfate 2.5 mg /3 ml 0.083 solution nebulization sig one 1 inhalation q4h every 4 hours needed sob/wheezing 4. ipratropium bromide 0.02 solution sig one 1 inhalation q6h every 6 hours needed sob/wheezing 5. prednisone 50 mg tablet sig two 2 tablet po day 14 days please take 100 mg 2 weeks 80 mg per day two weeks 60 mg see dr. disp 28 tablet refills 0 6. heparin porcine 5,000 unit/ml solution sig one 1 injection tid 3 times day please continue dvt prophylaxis patient ambulatory 7. symbicort 80-4.5 mcg/actuation hfa aerosol inhaler sig two 2 inhalation bid 8. furosemide 20 mg tablet sig one 1 tablet po daily daily 9. bactrim ds 160-800 mg tablet sig one 1 tablet po 10. acetylcysteine 600 mg capsule sig one 1 capsule po twice day 11. calcium 500 vitamin 500 mg 1,250mg -200 unit tablet sig one 1 tablet po twice day 12. amlodipine 5 mg tablet sig one 1 tablet po daily daily 13. multivitamins minerals capsule sig one 1 tablet po daily daily 14. insulin sliding scale discharge disposition extended care facility discharge diagnosis idiopathic pulmonary fibrosis pulmonary hypertension hypertension discharge condition stable requiring supplemental oxygen discharge instructions transferred outside hospital presented syncopal episode significant oxygen requirement transferred intensive care unit outpatient pulmonologist dr. consulted care icu started high dose steroids upon becoming stable transferred medicine service oxygen requirement reduced feel comfortable going rehabilitation please follow-up outpatient appointments listed please take medications directed experience worsening shortness breath chest pain cough concerning symptom please go nearest hospital later transferred necessary followup instructions\n",
            "True Labels: [0 0 0 1 0]\n",
            "Predicted Labels: [0 0 0 1 0]\n",
            "\n",
            "Example 2\n",
            "Input Text: name unit admission date discharge date date birth sex service medicine allergies known allergies adverse drug reactions attending chief complaint hematuria urinary retention major surgical invasive procedure none history present illness yo multiple medical problems pmh relevant hypertension proteinuria unclear etiology s/p renal biopsy yesterday presenting hematuria urinary retention lower abdominal pain pt denies n/v sob dizziness chest pressure/pain palpitations per outpt nephrologist cause proteinuria unclear represents mixed glomerulonephritic/nephrotic picture etiology possibly due celebrex/nsaid glomerulonephritis interstitial nephritis membranous glomerulonephiritis fsgs recent egfr 60 62 thus far spep upep hep serologies anca testing unrevealing ed bedside vitals stable exam significant mild suprapubic tenderness scrotal edema testicular tenderness mild erythema meatus us showed 3cmx 5cm clot bladder 3 way foley continuous irrigation placed urology saw patient recommended hand irrigating 60cc catheter tip syringe l sterile water clear cbi upon arrival floor pt stable condition acute complaints continued suprapubic pain improved ros negative fevers chills night sweats weight changes changes vision hearing changes balance cough shortness breath dyspnea exertion chest pain palpitations nausea vomiting diarrhea constipation hematochezia melena numbness weakness focal deficits chronic edema past medical history alcohol abuse unspec currently sober seizure disorder secondary atrial fibrillation pulmonary embolism post operative gout unspec osteoarthritis generalized unspec site hernia incisional s/p repair obesity unspec hypertension esophageal reflux depressive disorder anxiety states unspec hypercoagulable state spontaneous colonic perforation s/p colectomy social history family history mother know father emphysema smoker sister x2 asthma physical exam admission exam ================= vitals- 98.3 bp 143/73 hr 91 rr 16 so2 96 ra general- alert oriented acute distress heent- sclerae anicteric mmm oropharynx clear neck- supple thick neck difficult assess jvp lungs- clear mildly decreased air movement throughout increased work breathing tachypnea cv- rrr distant s1 s2 mrg abdomen- soft obese large ventral hernia prior incision site nt/nd bowel sounds present rebound tenderness guarding organomegaly gu- foley place scrotal pain erythema swelling ext- warm well perfused 1+ pulses clubbing cyanosis non-pitting pitting edema bilaterally thigh neuro- cns2-12 intact motor function grossly normal discharge exam ==================== vitals- t97.9 174/71-185/85 18 96 ra general- aox3 acute distress heent- sclerae anicteric mmm oropharynx clear neck- supple thick neck difficult assess jvp lungs- clear mildly decreased air movement throughout increased work breathing tachypnea cv- rrr distant s1 s2 mrg abdomen- soft obese large ventral hernia prior incision site nt/nd bowel sounds present rebound tenderness guarding gu- foley place scrotal pain erythema swelling ext- warm well perfused 1+ pulses clubbing cyanosis non-pitting pitting edema bilaterally thigh pertinent results admission labs ================= 09:45am wbc-7.3 rbc-3.75 hgb-12.2 hct-35.9 mcv-96 mch-32.5 mchc-34.0 rdw-14.5 plt 11:20am glucose-123 urean-20 creat-1.2 na-139 k-3.6 cl-98 hco3-29 angap-16 imaging ============ renal us 1. large well formed clot within bladder without hydronephrosis 2. hydronephrosis evidence renal injury minimal nonspecific perinephric simple fluid discharge labs ==================== 07:15am wbc-6.3 rbc-3.46 hgb-11.5 hct-34.3 mcv-99 mch-33.4 mchc-33.7 rdw-14.4 plt 07:15am glucose-87 urean-17 creat-1.2 na-142 k-4.0 cl-103 hco3-30 angap-13 micro ========== anaerobic bottle gram stain final gram positive cocci clusters aerobic bottle gram stain final gram positive cocci clusters brief hospital course yo pmh relevant hypertension proteinuria unclear etiology s/p renal biopsy complicated hematuria urinary retention reason admission active issues ================= urinary retention hematuria hematuria likely secondary renal biopsy given time course renal biopsy performed outpatient work proteinuria renal us showed large clot bladder urology consulted ed recommended cbi given clear urine cbi clamped foley removed passed voiding trial pass clots nephrology consulted given stability hematocrit discharge hct 33 discharged repeat labs faxed outpatient nephrologist dr. gpcs cultures drawn ed day discharge returned gpcs aerobic anerobic bottles review ed floor vital signs never febrile patient pcp informed results please see omr full details chronic issues ================== htn continued home furosemide etoh abuse recently sober denied etoh monitored ciwa exhibit signs withdrawal continued home acamprosate asthma continued home albuterol depression continued home fluoxetine gout continued home allopurinol transitional issues ======================= code full contact wife cultures morning discharge positive gpc bottles please see omr details regarding communication pcp patient repeat cbc faxed dr. medications admission preadmission medication list accurate complete 1. doxepin hcl 10 mg po hs 2. fluticasone propionate 110mcg 2 puff ih bid 3. albuterol inhaler 2 puff ih q4h prn sob/wheeze 4. buspirone 5 mg po bid 5. acamprosate 333 mg po tid 6. furosemide 40 mg po daily 7. allopurinol mg po daily 8. fluoxetine 20 mg po daily discharge medications 1. acamprosate 333 mg po tid 2. allopurinol mg po daily 3. buspirone 5 mg po bid 4. doxepin hcl 10 mg po hs 5. fluoxetine 20 mg po daily 6. fluticasone propionate 110mcg 2 puff ih bid 7. albuterol inhaler 2 puff ih q4h prn sob/wheeze 8. furosemide 40 mg po daily 9. outpatient lab work repeat cbc chem 7 faxed dr. discharge disposition home discharge diagnosis primary hematuria urinary retention secondary hypertension discharge condition mental status clear coherent level consciousness alert interactive activity status ambulatory independent discharge instructions dear mr. pleasure taking care came hospital urine kidney biopsy urologists neprhologists kidney phsyician evaluated hospital special type foley catheter placed washed bladder clean clots improved able urinate afterwards without trouble important work done results faxed dr. also important lift anything heavier 5 pounds next two weeks stay work next week wish speedy recovery care team followup instructions\n",
            "True Labels: [0 0 0 1 0]\n",
            "Predicted Labels: [0 0 0 1 0]\n",
            "\n",
            "Example 3\n",
            "Input Text: name unit admission date discharge date date birth sex service neurology allergies known allergies adverse drug reactions attending chief complaint increased lethargy major surgical invasive procedure none history present illness mr. year old man history cad conductions disease s/p ppm gbm currently treated chemo/xrt presenting increased lethargy acute chronic ams recently diagnosed gbm late following 4 months cognitive decline diplopia fall 24 hours prior presentation altered combative presented ct brain performed noted hemorrhage within gbm cavity coags normal time transferred ed seen neurosurgery recommend surgical management time labs notable inr 1.0 troponin 0.04 lipase 154 lactate 4.9. exam alert oriented moving extremities able follow commands exam reported non-focal given neurosurgical intervention nonfocal exam admitted omed arrival floor reports feeling well asked hospital unable answer motions around l chest states unsure review systems complete 10-point review systems performed negative unless otherwise noted hpi past medical history past oncologic history presented ed progressive cognitive decline diplopia imbalance found large butterfly mass crossing midline ct brain stereotactic biopsy pathology consistent gbm discharged temozolomide chemotherapy managed dr. radiation managed dr. past medical history 1. right parietal mass 2. cardiac pacer addrl1 3. cad 4. dyslipidemia 5. prostatism 6. hard hearing social history family history daughter ca sister cell hypothyroidism mother died father died lung ca physical exam ======================== admission physical exam ======================== vitals 1312 temp 97.9 po bp 113/73 lying hr 60 rr 18 o2 sat 96 o2 delivery ra general well-appearing elderly man appears stated age smiling lying bed heent mmm anicteric sclerae oropharynx without lesions temporal wasting bilaterally neck supple lungs ctab anterior lung fields increased work breathing heart rrr murmurs/gallops/rubs abd bs+ soft nontender nondistended ext warm well-perfused edema skin rashes neuro alert oriented person `` hospital '' date able say days week forwards backwards similarity watch ruler `` measure '' cn ii-xii intact pronator drift strength shoulder abduction elbow flexion/extension hand grip hip flexion sensation intact light touch throughout 2+ brachioradialis patellar achilles reflexes downgoing toes bilaterally access piv ======================== discharge physical exam ======================== temp 97.5 tm 97.9 bp 111/73 105-112/61-73 hr 66 66-90 rr 20 o2 sat 97 94-97 o2 delivery ra general elderly man appears stated age heent mmm anicteric sclerae oropharynx without lesions temporal wasting bilaterally lungs faint expiratory wheezes auscultation bilaterally increased work breathing heart rrr murmurs/gallops/rubs abd bs+ soft nontender nondistended ext warm well-perfused edema skin rashes neuro awake alert oriented x1 face symmetric perrl moves extremities purposefully dysmetria though follow commands well neuro exam pertinent results admission labs =============== 07:45am blood wbc-14.1 rbc-5.28 hgb-16.2 hct-47.9 mcv-91 mch-30.7 mchc-33.8 rdw-14.9 rdwsd-49.1 plt ct-58 07:45am blood ptt-20.1 07:45am blood neuts-88 bands-2 lymphs-5 monos-5 eos-0 baso-0 myelos-0 absneut-12.69 abslymp-0.71 absmono-0.71 abseos-0.00 absbaso-0.00 07:45am blood glucose-179 urean-20 creat-0.6 na-142 k-4.7 cl-100 hco3-30 angap-12 07:45am blood calcium-7.9 phos-4.7 mg-2.4 08:28am blood lactate-2.6 imaging ======== ct brain 2.6 x 3.5 x 2.7 area hemorrhage left parietal lobe layering hyperdense material within cavity concerning acute hemorrhage said cavity ct brain `` 1. unchanged appearance posterior left frontal bilateral parietal lobe masses associated vasogenic edema small amount layering hemorrhage hypodense posterior left frontal lesion unchanged compared exam 02:53 2. new increasing hemorrhage suggestion underlying large territorial infarction '' ct brain `` 1. stable unenhanced head ct. appreciable interval change biparietal infiltrative heterogeneously hypodense mass crossing splenium corpus callosum mass-effect lateral ventricles mild unchanged hydrocephalus 2. stable 3.7 cm cystic density left frontoparietal lesion small volume intralesional layering acute hemorrhage without significant mass effect 3. new acute intracranial process additional focus acute hemorrhage large vascular territory infarction 4. chronic findings include global involutional changes vascular calcifications '' discharge labs =============== 07:20am blood wbc-11.6 rbc-5.09 hgb-15.6 hct-46.7 mcv-92 mch-30.6 mchc-33.4 rdw-15.2 rdwsd-50.9 plt ct-66 07:20am blood neuts-78 bands-1 lymphs-9 monos-3 eos-0 baso-0 metas-8 myelos-1 nrbc-1 absneut-9.16 abslymp-1.04 absmono-0.35 abseos-0.00 absbaso-0.00 07:20am blood hypochr-normal anisocy-occasional poiklo-normal macrocy-normal microcy-normal polychr-normal 07:20am blood plt smr-very low plt ct-66 07:20am blood ptt-23.5 07:20am blood glucose-139 urean-13 creat-0.5 na-143 k-3.9 cl-101 hco3-31 angap-11 07:20am blood calcium-8.1 phos-3.9 mg-1.9 07:20am blood valproa-52 brief hospital course summary ======== year old man history cad conduction disease s/p ppm gbm currently treated chemo/xrt presenting 1 day increased lethargy acute chronic ams ct evidence hemorrhage gbm acute issues ============= glioblastoma cerebral hemorrhage altered mental status mr. presented increased combativeness altered mental status found cns hemorrhage transferred neurosurgery saw think needed surgical evacuation bleed received serial ct scans stable systolic blood pressure maintained 160. received decreased dose dexamethasone keppra transitioned depakote generalized tonic clonic seizure given history seizures agitated could caused keppra keppra discontinued morning generalized tonic clonic seizure resolved 2mg ativan loaded keppra transitioned valproic acid seizures prior discharge valproate goals care day following admission mr. daughter met dr. discuss goals care moving forward meeting decision made pursue chemotherapy radiation mr. discharged rehabilitation facility chronic issues =============== cardiac conduction disease s/p ppm unclear indication currently paced hyperlipidemia atorvastatin discontinued consistent goals care bph continued home tamsulosin finasteride transitional issues ==================== patient dnr/dni follow-up neuro-oncology scheduled dexamethasone dose decreased 4mg daily hospitalization atorvastatin held inpatient re-evaluate need restart levetiracetam discontinued hospitalization patient switched divalproex extended release 500mg bid labs repeat cbc chem-7 panel valproate level lfts 1 week discharge hgb 15.6 wbc 11.6 plts 66 consider prophylaxis bactrim ss patient continues steroid regimen hcp/contact name health care proxy relationship daughter phone number code status dnr/dni medications admission preadmission medication list accurate complete 1. atorvastatin 40 mg po qpm 2. finasteride 5 mg po daily 3. levetiracetam 1000 mg po q12h 4. dexamethasone 4 mg po bid 5. tamsulosin 0.4 mg po qhs 6. omeprazole 20 mg po daily discharge medications 1. acetaminophen liquid 650 mg po q6h prn pain moderate reason prn duplicate override alternating agents similar severity 2. calcium carbonate 1000 mg po daily 3. divalproex delayed release 500 mg po bid 4. ipratropium-albuterol neb 1 neb neb q6h prn wheezing 5. lidocaine 5 patch 1 ptch td qpm back 6. oxycodone immediate release mg po q6h prn pain moderate 7. polyethylene glycol 17 g po daily hold loose stools 8. senna 8.6 mg po bid prn constipation first line hold loose stools 9. vitamin 1000 unit po daily 10. dexamethasone 4 mg po daily 11. finasteride 5 mg po daily 12. omeprazole 20 mg po daily 13. tamsulosin 0.4 mg po qhs discharge disposition extended care facility discharge diagnosis primary diagnosis ================== glioblastoma cns hemorrhage generalized tonic clonic seizure secondary diagnosis =================== hyperlipidemia bph history pacemaker discharge condition mental status confused always level consciousness alert interactive activity status ambulatory requires assistance aid walker cane discharge instructions dear mr. pleasure taking care come hospital confused went found bleed brain happened neurosurgery doctors saw think needed surgery took pictures brain make sure bleeding stopped stopped antiseizure medicine since make agitated seizure started different antiseizure medicine leave continue taking medicines go follow-up appointments best wishes team followup instructions\n",
            "True Labels: [0 0 1 0 0]\n",
            "Predicted Labels: [0 0 1 0 0]\n",
            "\n",
            "Example 4\n",
            "Input Text: name unit admission date discharge date date birth sex f service medicine allergies clindamycin attending chief complaint dyspnea major surgical invasive procedure thoracentesis thoracentesis history present illness ms. year-old f intermittant `` bronchitis '' months occassional wheeze presents worsing sob states symptoms began bronchitis improved nebulizer treatment sob bronchitis-like symptoms took unknown antibiotic time symptoms two weeks ago developed sore throat chills resolved 48 hours developed cough 'loose productive sputum 5 days ago given azithromycin symptoms also increasing doe always relieved rest two days prior admit several episodes take cab home blocks away yesterday also noted voice changes chest heaviness occassionally chest heaviness baseline without chest pain day admission noted wheeze worsened sob minimal exertion concerned could pna went osh initial vitals 100.3 96 126/75 given albuterol ipratroprium solumedrol 125mg x 1. notable labs bnp 49 d-dimer 2520. transferred r/o pe. ed vs 99.8 108 120/58 90/ra desatted ambulation cta obtained revealed moderated-sized right-sided loculated effusion rim-enhancing unlikely emypymea ce negative x 1 set ua dirty given nac renal protection study also given levofloxacin 750 mg po x 1 pna. upon admission confirms story states sensitive smoke typical allergins history mild wheeze felt better past meds copd smoker since years prior smoke years packs per day history cancer past medical history obesity type ii dm h/o diverticulitis s/p colon resection depression overactive bladder sweet 's syndrome irritable bowel syndrome social history family history mother died emphysema father died mi several cousins asthma uncle mi aunt colon cancer physical exam exam admission vs 98.1 bp 124/64 p 88 rr 20 95 3l 124.1 kg gen nad talking full sentences without sob heent ncat eomi perrl oropharynx clear without erythema exudate neck supple lad jvd difficult assess cv rrr normal s1s2 systolic murmur lusb/rusb border rubs gallops pulm ctab decreased bs r base posteriorly dullness percussion +egophany pertriloqouy fremitus w/r/r abd soft obese ntnd normoactive bowel sounds organomegaly abdominal bruit appreciated ext warm well perfused full symmetric distal pulses trace edema b/l knees neuro aaox3 responds appropriately questions cn grossly intact skin lesions arms one gluteal fold lesion 0.5 cm diameter without surrounding erythema pertinent results hematology complete blood count wbc rbc hgb hct mcv mch mchc rdw plt ct 07:05am 5.6 2.95 8.3 26.4 89 28.3 31.7 17.0 328 09:10am 6.8 3.14 9.0 27.7 88 28.7 32.5 16.7 361 06:40am 6.7 3.00 8.5 26.7 89 28.5 31.9 16.7 324 06:15am 9.4 3.18 9.0 28.1 88 28.4 32.2 16.8 356 06:30am 8.5 3.12 9.0 27.7 89 28.6 32.4 16.4 328 08:00am 7.1 3.36 9.4 29.4 87 27.8 31.8 15.6 360 08:15am 7.7 3.32 9.5 29.5 89 28.7 32.2 16.1 402 06:30am 10.1 3.18 8.8 28.2 89 27.8 31.3 15.3 356 05:40pm 12.7 1 3.58 10.0 31.6 88 27.8 31.5 15.2 455 1 hematology complete blood count wbc rbc hgb hct mcv mch mchc rdw plt ct 07:05am 5.6 2.95 8.3 26.4 89 28.3 31.7 17.0 328 differential neuts bands lymphs monos eos baso atyps metas 08:00am 69.4 21.1 5.1 3.7 0.8 05:40pm 93.9 4.7 0.9 0.4 0.3 red cell morphology hypochr anisocy poiklo macrocy microcy polychr ovalocy tear dr 09:10am normal 1+ occasional occasional occasional occasional occasional occasional basic coagulation ptt plt inr ptt plt ct 07:05am 328 hemolytic workup ret aut 09:10am 2.5 chemistry renal glucose glucose urean creat na k cl hco3 angap 07:05am 146 13 0.7 140 4.2 100 32 12 09:10am 154 13 0.8 139 4.2 100 32 11 06:40am 120 12 0.7 140 4.3 102 33 9 06:15am 133 15 0.8 137 4.0 98 31 12 chems added 11:38am 06:30am 141 15 0.8 137 4.5 100 32 10 rf added 4:19pm 08:45am 0.8 08:00am 149 17 0.8 137 3.8 08:15am 134 18 0.9 140 4.1 add 1201 ca pep 09:10am 0.7 ld alb tp added 10:15 06:30am 201 15 141 4.7 05:40pm 260 14 0.8 138 4.0 100 25 17 06:15am ldh 259 09:10am ldh 239 t.bili 0.6 06:30am ck 90 05:40pm ck 89 troponin 0.01 troponin 0.01 test name units reference 09:10am red cell morphology hypochromia normal anisocytosis 1+ poikilocytosis occasional macrocytes occasional microcytes occasional polychromasia occasional ovalocytes occasional teardrop cells occasional hemolytic workup reticulocyte count automated 2.5 1.2 3.2 chemistry protein total 7.3 g/dl 6.4 8.3 albumin 3.7 g/dl 3.4 4.8 globulin 3.6 g/dl 2 4 iron 74 ug/dl 30 160 hematologic iron binding capacity total 248 ug/dl 260 470 vitamin b12 687 pg/ml 240 900 folate ng/ml 2.0 20 greater 20 ng/ml ferritin 473 ng/ml 13 150 transferrin 191 mg/dl 200 360 06:30am tsh 0.35 immunology 04:19pm negative rhuematoid factor 06:30am 14 protein electrophoresis specific abnormalities seen based ife see separate report monoclonal immunoglobulin seen interpreted md phd immunoglobulin g 1373 mg/dl immunoglobulin 738 mg/dl 70 400 immunoglobulin 69 mg/dl 40 230 immunofixation monoclonal immunoglobulin seen interpreted md phd 5:45 pm urine site clean catch final report urine culture final culture workup discontinued incubation showed contamination mixed skin/genital flora clinical significance isolate uncertain interpret caution escherichia coli 100,000 organisms/ml .. presumptive identification sensitivities mic expressed mcg/ml escherichia coli ampicillin -- -- -- -- -- -- 4 ampicillin/sulbactam -- =2 cefazolin -- -- -- -- -- -- =4 cefepime -- -- -- -- -- -- -- =1 ceftazidime -- -- -- -- -- =1 ceftriaxone -- -- -- -- -- =1 cefuroxime -- -- -- -- -- -- 4 ciprofloxacin -- -- -- -- =0.25 gentamicin -- -- -- -- -- -- =1 meropenem -- -- -- -- -- -- =0.25 nitrofurantoin -- -- -- -- =16 piperacillin -- -- -- -- -- =4 piperacillin/tazo -- -- =4 tobramycin -- -- -- -- -- -- =1 trimethoprim/sulfa -- -- =1 pleural pleural analysis wbc rbc polys lymphs monos eos 06:57am 100 42 16 33 9 pleural fluid 11:07am 175 39 37 16 8 pleural chemistry totprot glucose ld ldh albumin cholest 06:57am 4.7 169 565 pleural fluid 11:07am 4.5 156 680 2.6 94 11:07 pleural fluid gram stain final polymorphonuclear leukocytes seen microorganisms seen concentrated smear made cytospin method please refer hematology quantitative white blood cell count .. fluid culture final growth anaerobic culture preliminary growth final report gram stain final 25 pmns 10 epithelial cells/100x field gram stain indicates extensive contamination upper respiratory secretions bacterial culture results invalid 6:57 pleural fluid pleural fluid gram stain final 2+ per 1000x field polymorphonuclear leukocytes microorganisms seen fluid culture final growth anaerobic culture preliminary growth ct chest exam limited due respiratory motion evidence pulmonary embolism central lobar pulmonary arteries segmental branches also appear patent though subsegmental branches evaluated lung parenchyma also difficult evaluate due motion 6-mm nodule left upper lobe 3:46 also granuloma right upper lobe 3:17 moderate-sized nonhemorrhagic loculated right pleural effusion present associated atelectasis part atelectasis appears taking rounded configuration suggesting relatively chronic process enhancement pleura thickening suggest empyema pneumonia bronchi patent subsegmental level heart size normal pericardial effusion left lower paratracheal node measures 8 mm right high paratracheal node measures 9 mm pathologic mediastinal hilar axillary lymph node enlargement visualized portions liver spleen unremarkable small axial hiatal hernia suspicious lytic sclerotic lesions rib fracture impression 1. limited exam due respiratory motion evidence pulmonary embolism main lobar pulmonary arteries 2. moderate-sized nonhemorrhagic loculated right pleural effusion unknown etiology evidence empyema pneumonia pleural fluid sampling may value 3 6 mm left upper lobe nodule patient risk factors 12- month follow-up chest ct recommended risk factors smoking history malignancy followup 6 months recommended chest x-ray findings evidence pneumothorax residual tiny right pleural effusion bibasilar atelectasis identified frank consolidation cardiac silhouette unchanged impression evidence pneumothorax chest x-ray impression pa lateral decubitus views chest compared chest ct moderate right pleural effusion loculated laterally increased since opacification right lower lobe could new atelectasis pneumonia minimal atelectasis seen left mid lung tiny mobile left pleural effusion clinically insignificant heart size top normal unchanged dr. paged report findings time dictation chest x-ray compared previous examination relevant change extent bilateral pleural effusions constant also constant signs suggesting mild overhydration minimal left basal atelectasis evidence pneumothorax evidence seen focal parenchymal opacity suggestive pneumonia echocardiogram left atrium elongated mild symmetric left ventricular hypertrophy left ventricular cavity size normal regional left ventricular wall motion normal overall left ventricular systolic function normal lvef 55 right ventricular chamber size free wall motion normal aortic valve leaflets 3 mildly thickened aortic valve stenosis aortic regurgitation seen mitral valve leaflets mildly thickened mitral regurgitation seen mild pulmonary artery systolic hypertension pericardial effusion brief hospital course 1. dyspnea pt c/o dyspnea exertion past 2 weeks presentation outside hospital d-dimer elevated 2520. patient initially transferred cta showed evidence pe however showed moderate r-sided loculated pleural effusion pt started levaquin possible infectious etiology completed 7 day course levaquin 750mg po daily initially afebrile admission low-grade temp tm 100.8. following day afebrile remained well remainder hospital stay patient put standing atrovent albuterol nebulizers symptom management thoracentesis done 500ml serosanguinous fluid removed right hemithorax fluid exudative nature negative gram stain culture ldh 680 glucose 146 protein 4.5. wbc 175 39 neutrophils 37 lymphocytes 16 monos 8 eosinophils cytology negative given concern autoimmune disease checked negative rf 14. cholesterol level pleural fluid 94. procedure ms. well remained dyspneic exertion required oxygen keep o2 sats 92 able breath 2l o2 saturation levels 94-95 pt complained continued sob ambulation repeat cxr showed persistent loculated effusion pt repeat thoracentesis showed exudative effusion additional 400ml serosanguinous fluid removed cytology pleural effusion samples sputum negative post-thoracentesis cxr showed persistent effusion pt continued feel well require oxygen keep o2 saturation 90 ambulation. discharge ms. feeling well still need o2 ambulation 95 ra without o2 desaturated 86 ambulation ra discharged home o2 pulmonology follow-up dr. pfts done prior appointment given atrovent mdi spacer follow-up pcp evaluated continued oxygen requirements possible re-expansion pleural effusion pleural effusion stable upon discharge. ms. also 6mm nodule per ct r upper lobe follow-up ct scan 6 months given smoking history pulmonary symptoms. 2. anemia pt found anemic presentation hct 31.6 dropped 27.7 hd 4 guaiac negative exam reports history anemia past unclear diagnosis correlated poor diet improved diet improved anemia workup showed iron studies consistent anemia chronic disease decreased tibc transferritin increased ferritin iron level within normal limits 76. blood smear teardrop cells seen b12 folate studies normal spep showed igg level 1373 iga level 738 igm level 69 monoclonal bands upep negative proteins hematology contacted recommended outpatient follow-up possible mds bone marrow involvement potential bone marrow biopsy scheduled see dr. dr. hematology outpatient. hct remained stable admission ranged 31 26 discharge hct 26.4 pt remained asymptomatic admission require blood transfusions. 3. uti pt asymptomatic dysuria report urinary frequency consistent prior history overactive bladder urine cultures returned pansensitive e. coli 100,000 colonies treated levaquin 750mg x 7 days possible pneumonia would also cover uti. 4. dm type ii blood sugars initially elevated due iv solumedrol given outside hospital pt put diabetic diet home dose actos continued q6 hour finger sticks blood sugars ranged 140s-180s admission given regular insulin sliding scale blood sugars follow-up primary care physician regarding diabetic glucose control. 5. anxiety pt expressed anxiety hospitalization regarding medical problems inconclusive etiology pleural effusion social work consulted provide support given ativan .5mg po q6hours prn anxiety many anxiety symptoms likely also related sob. 5. depression pt history depression citalopram continued express symptoms depression admission. 6. sweet 's syndrome pt skin findings consistent sweet 's syndrome home dose dapsone continued. 7. overactive bladder oxybutyn continued per short-acting dose 5mg q8 hours formulary. 8. fluids electrolytes nutrition pt put diabetic diet tolerating food well need iv fluids electrolyte repletion. 9. hospital prophylaxis pt put sc heparin dvt prophylaxis regular bowel movements need stool softeners. 10. code full confirmed admission 11. discharge pt discharged follow-up primary care physician outpatient studies pending time discharge given appointment dr. pulmonology pft testing hematology contact follow-up appointment bone marrow biopsy medications admission citalopram hydrobromide 20 mg po daily aspirin 81 mg po daily calcium carbonate 500 mg po tid multivitamins 1 tab po daily oxybutynin xl 15 mg po daily dapsone 100 mg po daily pioglitazone 15 mg po daily albuterol mdi discharge medications 1. aspirin 81 mg tablet chewable sig one 1 tablet chewable po daily daily 2. citalopram 20 mg tablet sig one 1 tablet po daily daily 3. calcium carbonate 500 mg tablet chewable sig one 1 tablet chewable po tid 3 times day 4. multivitamin tablet sig one 1 tablet po daily daily 5. dapsone 100 mg tablet sig one 1 tablet po daily daily 6. pioglitazone 15 mg tablet sig one 1 tablet po daily daily 7. levofloxacin 250 mg tablet sig three 3 tablet po daily daily 2 days 8. oxygen 2l/min via nasal canula use ambulation 9. atrovent hfa 17 mcg/actuation aerosol sig two 2 puffs inhalation four times day disp 1 inhaler refills 2 10. spacer 1 spacer use mdi discharge disposition home service facility discharge diagnosis primary diagnosis shortness breath secondary diagnosis pleural effusion anemia depression sweet 's syndrome overactive bladder anxiety discharge condition afebrile hemodynamically stable oxygen ambulation discharge instructions admitted hospital shortness breath found fluid collection around lungs removed also found anemic low red blood cell count given antibiotic possible pneumonia completed 7 day treatment prescribed atrovent inhalers spacer continue taking medications prescribed appointment dr. office 11:00 appointment drs hematology 2:00pm need reschedule please call number need repeat ct scan chest 6 months arranged primary care provider pulmonologist seek medical attention calling pcp coming emergency room fevers 101 degrees chills night sweats difficulty breathing rest walking nausea vomiting abdominal pain weight loss symptoms concern followup instructions\n",
            "True Labels: [1 0 0 0 0]\n",
            "Predicted Labels: [1 0 0 0 0]\n",
            "\n",
            "Example 5\n",
            "Input Text: name unit admission date discharge date date birth sex f service medicine allergies bactrim ds codeine attending chief complaint diarrhea major surgical invasive procedure none history present illness ms. female past medical history recurrent utis presenting watery diarrhea 5 days stool positive c diff pt reports went visit mother rehab facility last week later told mother c. helped bathroom several times shortly patient developed profuse watery diarrhea going almost every hour feels extremely fatigued reports poor appetite last days tolerating minimal po furthermore day prior admission developed nausea well 1 episode vomiting taken anti-diarrheal meds symptoms helped minimally denies blood stool fever chills recent travel review records patient recurrent symptoms dysuria often prescribed antibiotics also recently seen boil leg first received course clinda cipro last month ed initial vitals 98.3 hr 68 bp 130/78 rr 18 100 ra labs significant cbc wbc 8.7 hgb 10.6 plt 326 lytes 140 103 7 -- -- -- -- -- -- -- 84 4.7 18 0.7 ucg negative imaging done patient intolerant pos due nausea therefore given iv zofran started iv metronidazole well 1l ns given inability tolerate pos decision made admit care vitals prior transfer 98.8 hr 85 bp 133/77 rr 18 99 ra patient currently reports pain worsening continues nauseous reports pain stomach continues frequent loose bowel movements ros pertinent positives negatives noted hpi systems reviewed negative past medical history c5-6 acdf done l r knee arthroscopies recurrent utis social history family history mother c. diff diarrhea physical exam vitals 99.0 hr 98 bp 131/83 rr 19 99 ra general lying fetal position moaning pain oriented x3 ent ears nose without visible erythema masses trauma oropharynx without visible lesion erythema exudate cv heart regular murmur s3 s4 jvd resp lungs clear auscultation good air movement bilaterally breathing non-labored gi abdomen soft non-distended diffusely tender palpation bowel sounds present hsm gu suprapubic fullness tenderness palpation msk neck supple moves extremities strength grossly full symmetric bilaterally limbs skin rashes ulcerations noted neuro alert oriented face symmetric gaze conjugate eomi speech fluent moves limbs sensation light touch grossly intact throughout psych pleasant appropriate affect pertinent results 11:45am blood wbc-8.7 rbc-4.46 hgb-10.6 hct-36.4 mcv-82 mch-23.8 mchc-29.1 rdw-15.0 rdwsd-43.7 plt 06:16am blood wbc-7.1 rbc-3.98 hgb-9.3 hct-32.5 mcv-82 mch-23.4 mchc-28.6 rdw-14.6 rdwsd-43.2 plt 11:45am blood neuts-74.0 lymphs-17.4 monos-7.0 eos-0.9 baso-0.2 im absneut-6.43 abslymp-1.51 absmono-0.61 abseos-0.08 absbaso-0.02 11:45am blood glucose-84 urean-7 creat-0.7 na-140 k-4.7 cl-103 hco3-18 angap-19 06:16am blood glucose-63 urean-7 creat-0.6 na-141 k-3.6 cl-104 hco3-20 angap-17 06:16am blood calcium-8.2 phos-3.9 mg-2.0 09:46pm blood lactate-1.1 09:46pm blood po2-209 pco2-35 ph-7.40 caltco2-22 base xs -- 1 comment-green top 07:05am blood wbc-4.6 rbc-4.14 hgb-9.7 hct-33.1 mcv-80 mch-23.4 mchc-29.3 rdw-14.6 rdwsd-42.5 plt 07:05am blood glucose-104 urean-3 creat-0.6 na-142 k-3.4 cl-106 hco3-25 angap-11 06:40am blood creat-0.6 na-145 k-4.0 cl-108 hco3-25 angap-12 06:40am blood phos-3.6 mg-2.0 07:05am blood ferritn-17 07:05am blood mg-2.0 iron-21 brief hospital course ms. female past medical history recurrent utis presenting watery diarrhea 5 days stool positive c diff severe c. diff infection requiring acute hospitalization admitted hospitalist service requires significant supportive care initially received flagyl 500mg iv q8 since unable keep oral vancomycin addition received ivf continuously required zofran 4mg odt q8h standing helped nausea able keep vancomycin liquid also severe abdominal pain required morphine 2mg iv even though helped stated wore quickly changed morphine sulfate 15mg effective able advance diet pain improved significantly able eat regular foods gave morphine sulfate 15mg 6 pills understands intended short-term continued use lead significant problems including addiction finish vancomycin 10 days outpatient total course days chronic anemia hgb 10.6 stable signs active bleeding appears iron deficiency attempted give iv iron inpatient iv infiltrated unable get access discuss oral iron replacement pcp chronic/stable problems recurrent utis dysuria pcp recommended referral urogynecology workup recurrent dysuria times appears symptoms without signs active bacterial infection u/a culture gerd taking ranitidine prn outpatient outpatient follow-up general/supportive care vte prophylaxis pneumoboots score 1 pharmacologic ppx indicated name health care proxy relationship aunt phone number cell phone code status/advance care planning full presumed disposition home services medications admission preadmission medication list accurate complete 1. ranitidine 150 mg po daily prn gi upset 2. bismuth subsalicylate 15 ml po tid prn gi upset discharge medications 1. acetaminophen 650 mg po q6h prn pain mild 2. morphine sulfate 15 mg po q4h prn pain severe rx morphine 15 mg 1 tablet mouth every four 4 hours disp 5 tablet refills 0 3. ondansetron odt 4 mg po tid rx ondansetron 4 mg 1 tablet mouth three times day disp 15 tablet refills 0 4. vancomycin oral liquid mg po qid rx vancomycin 125 mg 1 capsule mouth every six 6 hours disp 40 capsule refills 0 5. bismuth subsalicylate 15 ml po tid prn gi upset 6. ranitidine 150 mg po daily prn gi upset discharge disposition home discharge diagnosis c. diff colitis discharge condition mental status clear coherent level consciousness alert interactive activity status ambulatory independent discharge instructions admitted hospital c. diff infection initially placed iv liquid antibiotics able keep liquid go home wish best recovery team followup instructions\n",
            "True Labels: [0 0 0 0 0]\n",
            "Predicted Labels: [0 0 0 0 0]\n",
            "\n"
          ]
        }
      ]
    },
    {
      "cell_type": "code",
      "source": [],
      "metadata": {
        "id": "yf-Gp0qyPX3o"
      },
      "execution_count": null,
      "outputs": []
    }
  ]
}