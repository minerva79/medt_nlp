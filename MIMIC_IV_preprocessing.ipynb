{
 "cells": [
  {
   "cell_type": "markdown",
   "source": [
    "# MIMIC-IV Clinical Notes\n",
    "The discharge summary often contain a treasure trove of information for the patient, including medical history, disease progression, drug regime, treatment plans and follow-up actions."
   ],
   "metadata": {
    "collapsed": false
   }
  },
  {
   "cell_type": "code",
   "execution_count": 1,
   "outputs": [
    {
     "data": {
      "text/plain": "          note_id  subject_id   hadm_id note_type  note_seq  \\\n0  10000032-DS-21    10000032  22595853        DS        21   \n1  10000032-DS-22    10000032  22841357        DS        22   \n2  10000032-DS-23    10000032  29079034        DS        23   \n3  10000032-DS-24    10000032  25742920        DS        24   \n4  10000084-DS-17    10000084  23052089        DS        17   \n\n             charttime            storetime  \\\n0  2180-05-07 00:00:00  2180-05-09 15:26:00   \n1  2180-06-27 00:00:00  2180-07-01 10:15:00   \n2  2180-07-25 00:00:00  2180-07-25 21:42:00   \n3  2180-08-07 00:00:00  2180-08-10 05:43:00   \n4  2160-11-25 00:00:00  2160-11-25 15:09:00   \n\n                                                text  \n0   \\nName:  ___                     Unit No:   _...  \n1   \\nName:  ___                     Unit No:   _...  \n2   \\nName:  ___                     Unit No:   _...  \n3   \\nName:  ___                     Unit No:   _...  \n4   \\nName:  ___                    Unit No:   __...  ",
      "text/html": "<div>\n<style scoped>\n    .dataframe tbody tr th:only-of-type {\n        vertical-align: middle;\n    }\n\n    .dataframe tbody tr th {\n        vertical-align: top;\n    }\n\n    .dataframe thead th {\n        text-align: right;\n    }\n</style>\n<table border=\"1\" class=\"dataframe\">\n  <thead>\n    <tr style=\"text-align: right;\">\n      <th></th>\n      <th>note_id</th>\n      <th>subject_id</th>\n      <th>hadm_id</th>\n      <th>note_type</th>\n      <th>note_seq</th>\n      <th>charttime</th>\n      <th>storetime</th>\n      <th>text</th>\n    </tr>\n  </thead>\n  <tbody>\n    <tr>\n      <th>0</th>\n      <td>10000032-DS-21</td>\n      <td>10000032</td>\n      <td>22595853</td>\n      <td>DS</td>\n      <td>21</td>\n      <td>2180-05-07 00:00:00</td>\n      <td>2180-05-09 15:26:00</td>\n      <td>\\nName:  ___                     Unit No:   _...</td>\n    </tr>\n    <tr>\n      <th>1</th>\n      <td>10000032-DS-22</td>\n      <td>10000032</td>\n      <td>22841357</td>\n      <td>DS</td>\n      <td>22</td>\n      <td>2180-06-27 00:00:00</td>\n      <td>2180-07-01 10:15:00</td>\n      <td>\\nName:  ___                     Unit No:   _...</td>\n    </tr>\n    <tr>\n      <th>2</th>\n      <td>10000032-DS-23</td>\n      <td>10000032</td>\n      <td>29079034</td>\n      <td>DS</td>\n      <td>23</td>\n      <td>2180-07-25 00:00:00</td>\n      <td>2180-07-25 21:42:00</td>\n      <td>\\nName:  ___                     Unit No:   _...</td>\n    </tr>\n    <tr>\n      <th>3</th>\n      <td>10000032-DS-24</td>\n      <td>10000032</td>\n      <td>25742920</td>\n      <td>DS</td>\n      <td>24</td>\n      <td>2180-08-07 00:00:00</td>\n      <td>2180-08-10 05:43:00</td>\n      <td>\\nName:  ___                     Unit No:   _...</td>\n    </tr>\n    <tr>\n      <th>4</th>\n      <td>10000084-DS-17</td>\n      <td>10000084</td>\n      <td>23052089</td>\n      <td>DS</td>\n      <td>17</td>\n      <td>2160-11-25 00:00:00</td>\n      <td>2160-11-25 15:09:00</td>\n      <td>\\nName:  ___                    Unit No:   __...</td>\n    </tr>\n  </tbody>\n</table>\n</div>"
     },
     "execution_count": 1,
     "metadata": {},
     "output_type": "execute_result"
    }
   ],
   "source": [
    "import pandas as pd\n",
    "\n",
    "# Read the first 5 rows of the gzipped CSV file\n",
    "df = pd.read_csv('./mimic-iv-note-deidentified-free-text-clinical-notes-2.2/note/discharge.csv.gz', compression='gzip')\n",
    "\n",
    "# Display the dataframe\n",
    "df.head()"
   ],
   "metadata": {
    "collapsed": false
   }
  },
  {
   "cell_type": "markdown",
   "source": [
    "### Extraction of Discharge Diagnosis\n",
    "Using Regular expression to extract all the notes taken within the Discharge Diagnosis (all wordings before Discharge Condition)"
   ],
   "metadata": {
    "collapsed": false
   }
  },
  {
   "cell_type": "code",
   "execution_count": 99,
   "outputs": [
    {
     "name": "stdout",
     "output_type": "stream",
     "text": [
      "Primary diagnosis:\n",
      "Acute right-sided lenticulostriate territory infarct \n",
      "Small acute right posterior frontal subcortical infarct \n",
      "Hyperlipidemia\n",
      "\n",
      "Secondary diagnosis:\n",
      "History of a left pontine stroke\n",
      "History of colon cancer \n",
      "Cholecystectomy\n",
      "Diverticulosis\n",
      "Hemorrhoids\n"
     ]
    }
   ],
   "source": [
    "import re\n",
    "\n",
    "def extract_diagnosis(text):\n",
    "    # Look for the pattern 'Discharge Diagnosis:', capture everything until 'Discharge Condition'\n",
    "    pattern = r'Discharge Diagnosis:(.*?)(?=Discharge Condition)'\n",
    "    matches = re.search(pattern, text, re.DOTALL)\n",
    "    if matches:\n",
    "        return matches.group(1).strip()  # Returns the diagnosis text, stripping any leading/trailing whitespace\n",
    "    else:\n",
    "        return \"Diagnosis not found\"\n",
    "\n",
    "\n",
    "diagnosis = extract_diagnosis(df.text[133])\n",
    "print(diagnosis)\n"
   ],
   "metadata": {
    "collapsed": false
   }
  },
  {
   "cell_type": "code",
   "execution_count": 100,
   "outputs": [
    {
     "name": "stdout",
     "output_type": "stream",
     "text": [
      " \n",
      "Name:  ___                 Unit No:   ___\n",
      " \n",
      "Admission Date:  ___              Discharge Date:   ___\n",
      " \n",
      "Date of Birth:  ___             Sex:   F\n",
      " \n",
      "Service: NEUROLOGY\n",
      " \n",
      "Allergies: \n",
      "Iodine; Iodine Containing\n",
      " \n",
      "Attending: ___.\n",
      " \n",
      "Chief Complaint:\n",
      "gait instabilityq\n",
      " \n",
      "Major Surgical or Invasive Procedure:\n",
      "none\n",
      " \n",
      "History of Present Illness:\n",
      "Ms. ___ is a ___ year old woman with hypertension, untreated\n",
      "hyperlipidemia prior paramedian pontine infarct now presenting\n",
      "with difficulty walking and slowed speech. She awoke yesterday\n",
      "morning with difficulty walking and felt her speech my be slower\n",
      "than normal. The difficulty walking is intermittent and she ___\n",
      "still able to manage. When she spoke with her friends they told\n",
      "her that her speech was slow. Friends thought she had a left\n",
      "facial droop, but when the pt looked in the mirror she thought \n",
      "it\n",
      "was normal. She denies being able to find the right words. \n",
      "denied headache, loss of vision, blurred vision, diplopia,\n",
      "dysarthria, dysphagia, lightheadedness, vertigo, tinnitus or\n",
      "hearing difficulty. Denied difficulties comprehending speech. \n",
      "Denied focal weakness, numbness, parasthesiae. No bowel or\n",
      "bladder incontinence or retention.\n",
      "\n",
      "On general review of systems, the pt denied recent fever or\n",
      "chills.  No night sweats or recent weight loss or gain. Denied\n",
      "cough, shortness of breath.  Denied chest pain or tightness,\n",
      "palpitations.  Denied nausea, vomiting. She has chronic \n",
      "diarrhea.\n",
      "no constipation or abdominal pain.  No recent change in bowel or\n",
      "bladder habits.  No dysuria.  Denied arthralgias or myalgias.\n",
      "Denied rash.\n",
      "\n",
      " \n",
      "Past Medical History:\n",
      "- ? Hypertension\n",
      "- Hyperlipidemia- stopped simvastatin due to \"bobbing legs\"\n",
      "-Colon cancer originally resected in ___ (right colectomy)\n",
      "and who had a prolonged stuttering course of adjuvant\n",
      "chemotherapy (diagnosed in setting of GI bleeding)\n",
      "-Cholecystectomy for chronic cholecystitis and gallstones in\n",
      "___\n",
      "-Diverticulosis\n",
      "-Hemorrhoids\n",
      "\n",
      " \n",
      "Social History:\n",
      "___\n",
      "Family History:\n",
      "Mother had stroke in her ___ or ___.  Her paternal \n",
      "grandfather,\n",
      "father, and brother all had colon cancer.  Sister had ovarian\n",
      "cancer and has prostate cancer in her family.\n",
      "\n",
      " \n",
      "Physical Exam:\n",
      "Vitals: T 97.9 BP 156/91 P 72 RR 20 SaO2 100 RA\n",
      "General: well appearing, pleasant, NAD\n",
      "HEENT: NC/AT, sclerae anicteric, MMM, no exudates in oropharynx\n",
      "Neck: no bruits bilat, no rigiduty\n",
      "Lungs: scattered wheeze. \n",
      "CV: regular rate and rhythm, no MRG\n",
      "Abdomen:  soft, obese, non-tender, non-distended, BS+\n",
      "Ext: warm, dry, no edema, pedal pulses appreciated\n",
      "Skin: no rashes\n",
      " \n",
      "Neurologic Examination: \n",
      "Mental Status: \n",
      "Awake and alert, able to relay history, cooperative with exam,\n",
      "normal affect \n",
      "Oriented to person, place, time\n",
      "Attention: can say days of week backward \n",
      "Language: fluent, non-dysarthric speech, no paraphasic errors,\n",
      "naming, comprehension, repetition intact; reading and writing\n",
      "intact. No evidence of apraxia or neglect \n",
      " \n",
      "Cranial Nerves: \n",
      "Optic disc margins sharp. Visual fields are full to\n",
      "confrontation. Pupils equally round and reactive to light, 3 to \n",
      "2\n",
      "mm bilaterally.  Extraocular movements intact with odd superior\n",
      "conjugate R gaze preference however pt is able to deviate both\n",
      "eyes superiorly, no false image or diplopia. no nystagmus. \n",
      "Facial\n",
      "sensation intact to LT bilaterally.  Facial movement normal and\n",
      "symmetric.  Hearing intact to finger rub bilaterally. Palate\n",
      "elevates midline.  Tongue protrudes midline, no fasciculations. \n",
      "Trapezii full strength bilaterally. \n",
      " \n",
      "Motor: \n",
      "Normal bulk throughout, increased tone in the legs bilaterally,\n",
      "left more than right.  no pronator drift.  No tremor\n",
      "or asterixis.\n",
      "\n",
      "      D T B WE FiF ___ IP  Q  H  TA  ___  \n",
      "Right ___ 5  5    ___  ___  5   5     \n",
      "Left  ___ 5  5    ___  ___  5   5     \n",
      " \n",
      "Sensation: Normal light touch, cold sensation. vibration and\n",
      "proprioception intact at toes. \n",
      "\n",
      "Reflexes: B T Br Pa Pl \n",
      "Right     ___  0  0 \n",
      "Left      ___  0  0  \n",
      "\n",
      "Toes upgoing on the left, downgoing on the right. \n",
      " \n",
      "Coordination: No intention tremor noted.  RAM symmetric. FNF and\n",
      "HKS normal. \n",
      " \n",
      "Gait:  Good initiation. Narrow-based, normal stride and arm\n",
      "swing.  Tandems with some astasia, abasia. Romberg absent.\n",
      "\n",
      " \n",
      "Pertinent Results:\n",
      "___ 01:48PM BLOOD WBC-9.1 RBC-4.85 Hgb-13.8 Hct-40.4 MCV-83 \n",
      "MCH-28.5 MCHC-34.3 RDW-14.2 Plt ___\n",
      "___ 01:48PM BLOOD Neuts-68.3 ___ Monos-5.3 Eos-0.4 \n",
      "Baso-0.3\n",
      "___ 01:48PM BLOOD ___ PTT-29.5 ___\n",
      "___ 01:48PM BLOOD Glucose-113* UreaN-9 Creat-1.0 Na-143 \n",
      "K-3.7 Cl-108 HCO3-27 AnGap-12\n",
      "___ 01:48PM BLOOD CK(CPK)-112\n",
      "___ 01:48PM BLOOD cTropnT-<0.01\n",
      "___ 01:48PM BLOOD CK-MB-2\n",
      "___ 07:00AM BLOOD Cholest-246*\n",
      "___ 07:00AM BLOOD %HbA1c-6.7*\n",
      "___ 07:00AM BLOOD Triglyc-195* HDL-41 CHOL/HD-6.0 \n",
      "LDLcalc-166*\n",
      "___ 07:00AM BLOOD ASA-NEG Ethanol-NEG Acetmnp-NEG \n",
      "Bnzodzp-NEG Barbitr-NEG Tricycl-NEG\n",
      "___ 08:09AM URINE Color-Yellow Appear-Clear Sp ___\n",
      "___ 08:09AM URINE Blood-NEG Nitrite-NEG Protein-NEG \n",
      "Glucose-NEG Ketone-NEG Bilirub-NEG Urobiln-NEG pH-5.0 Leuks-NEG\n",
      "___ 08:09AM URINE bnzodzp-NEG barbitr-NEG opiates-NEG \n",
      "cocaine-NEG amphetm-NEG mthdone-NEG\n",
      "\n",
      "NCHCT ___:\n",
      "IMPRESSION: \n",
      "1. No intracranial hemorrhage or edema. \n",
      "2. Old left pontine infarct corresponds to lesion detected on \n",
      "___. \n",
      "\n",
      "CXR ___:\n",
      "CHEST, TWO VIEWS: Lung volumes are low which results in \n",
      "bronchovascular \n",
      "crowding and extent and accentuates the cardiac silhouette. \n",
      "Within this \n",
      "limitation, the lungs are clear, without airspace consolidation. \n",
      "Hilar \n",
      "contours, and pulmonary vasculature are within normal limits. \n",
      "Osseous \n",
      "structures are intact. Surgical clips within the left upper \n",
      "quadrant are \n",
      "noted. \n",
      "  \n",
      "IMPRESSION: No acute intrathoracic process. \n",
      "\n",
      "MRI brain, MRA head/neck ___:\n",
      "\n",
      "BRAIN MRI: \n",
      "  \n",
      "There is evidence of restricted diffusion seen in the right \n",
      "lenticulostriate \n",
      "territory extending from the putaminal to the periventricular \n",
      "region. Findings \n",
      "are indicative of acute infarct. The chronic left pontine \n",
      "infarct is \n",
      "identified. Several prominent perivascular spaces are seen in \n",
      "the basal \n",
      "ganglia region. Small right subcortical frontal infarct is also \n",
      "identified \n",
      "which appears acute given the slow diffusion. Mild changes of \n",
      "small vessel \n",
      "disease are seen. There is no midline shift or hydrocephalus. \n",
      "  \n",
      "IMPRESSION: Acute right-sided lenticulostriate territory infarct \n",
      "involving \n",
      "the predominant in the periventricular region. Small acute right \n",
      "posterior \n",
      "frontal subcortical infarct. Chronic left pontine infarct. Mild \n",
      "changes of \n",
      "small vessel disease. \n",
      "  \n",
      "MRA OF THE NECK: \n",
      "  \n",
      "Neck MRA demonstrates normal flow in both carotid and right \n",
      "vertebral \n",
      "arteries. The left vertebral artery is small in size, which \n",
      "could be a \n",
      "congenital variation. \n",
      "  \n",
      "IMPRESSION: Small left vertebral artery, otherwise unremarkable \n",
      "MRA of the \n",
      "neck. \n",
      "  \n",
      "MRA OF THE HEAD: \n",
      "  \n",
      "Head MRA is somewhat limited with the motion limiting the \n",
      "evaluation at the \n",
      "skull base. Otherwise, the MRA is normal in appearance in the \n",
      "arteries of \n",
      "anterior and posterior circulation. \n",
      "  \n",
      "IMPRESSION: Somewhat limited evaluation of the skull base. \n",
      "However, this \n",
      "area is well visualized on the neck MRA. Otherwise, MRA of the \n",
      "head is \n",
      "normal. \n",
      "  \n",
      "\n",
      " \n",
      "Brief Hospital Course:\n",
      "This ___ yo woman was admitted with complaints to gait \n",
      "instability and slowness of speech as outlined in the HPI. She \n",
      "had an otherwise normal neuro exam, but given her history of \n",
      "prior stroke and vascular risk factors, she received a brain MRI \n",
      "and MRA of the head and neck, which showed 2 small infarcts in \n",
      "the right lenticulostriate area and right frontal subcortical \n",
      "area. These were thought to be due to a small vessel disease. \n",
      "Her MRA was unrevealing.  Her bloodwork revealed elevated \n",
      "lipids, for which she was started on Zetia and omega-3 fatty \n",
      "acids as she indicated that she could not tolerate lipitor in \n",
      "the past because it made her weak. Her HgbA1C was mildly \n",
      "elevated to 6.7, and she was counceled that she may have, at the \n",
      "least, glucose intolerence. She was instructed to modify her \n",
      "diet, be physically active, and follow this up with her PCP. \n",
      "Because she became angry when told of the possibilty of \n",
      "diabetes, these instructions, along with her med changes, were \n",
      "discussed with both her son and daughter. She was also counceled \n",
      "to stop smoking, and to be compliant with her medications.  The \n",
      "patient will be scheduled for an echicardiogram as an outpatient \n",
      "to complete her work-up. \n",
      " \n",
      "Medications on Admission:\n",
      "Folate \n",
      "Aspirin 325mg daily\n",
      "Recently stopped simvastatin because it made her gait \"wobbly\" \n",
      "no\n",
      "myalgias.\n",
      "\n",
      " \n",
      "Discharge Medications:\n",
      "1. Aspirin 325 mg Tablet Sig: One (1) Tablet PO DAILY (Daily).  \n",
      "2. Folic Acid  Oral\n",
      "3. Omega-3 Fatty Acids 1,000 mg Capsule Sig: One (1) Capsule PO \n",
      "twice a day.\n",
      "Disp:*60 Capsule(s)* Refills:*2*\n",
      "4. Zetia 10 mg Tablet Sig: One (1) Tablet PO once a day.\n",
      "Disp:*30 Tablet(s)* Refills:*2*\n",
      "\n",
      " \n",
      "Discharge Disposition:\n",
      "Home\n",
      " \n",
      "Discharge Diagnosis:\n",
      "Primary diagnosis:\n",
      "Acute right-sided lenticulostriate territory infarct \n",
      "Small acute right posterior frontal subcortical infarct \n",
      "Hyperlipidemia\n",
      "\n",
      "Secondary diagnosis:\n",
      "History of a left pontine stroke\n",
      "History of colon cancer \n",
      "Cholecystectomy\n",
      "Diverticulosis\n",
      "Hemorrhoids\n",
      "\n",
      " \n",
      "Discharge Condition:\n",
      "Mild difficulty with tandem gait and conjugate superior right \n",
      "gaze preference with upgaze only, diminished in legs bilaterally \n",
      "and upgoing left toe. \n",
      "\n",
      " \n",
      "Discharge Instructions:\n",
      "You have had multiple strokes (a small acute right posterior \n",
      "frontal subcortical infarct and an acute right sided \n",
      "lenticulostriate territory infract).  These were likely small \n",
      "vessel in origin and can be prevented in the future if you \n",
      "successfully quit smoking, start a cholesterol lowering \n",
      "medication and have a well controlled blood pressure.  You \n",
      "should continue to take Aspirin 325mg daily to help prevent \n",
      "future strokes.\n",
      "\n",
      "Please take medications as prescribed.\n",
      "\n",
      "Please keep your follow-up appointments.\n",
      "\n",
      "If you have any worsening or worrying symptoms, please contact \n",
      "your PCP or return to the ED.\n",
      " \n",
      "Followup Instructions:\n",
      "___\n",
      "\n"
     ]
    }
   ],
   "source": [
    "print(df.text[133])"
   ],
   "metadata": {
    "collapsed": false
   }
  },
  {
   "cell_type": "code",
   "execution_count": 34,
   "outputs": [],
   "source": [
    "# Assuming df is your DataFrame and 'text' is the column with discharge summaries\n",
    "# Apply the function to each row in the 'text' column\n",
    "df['discharge_diagnosis'] = df['text'].apply(extract_diagnosis)"
   ],
   "metadata": {
    "collapsed": false
   }
  },
  {
   "cell_type": "code",
   "execution_count": 37,
   "outputs": [],
   "source": [
    "# Assuming df is your original DataFrame\n",
    "# Keep only the 'text' and 'discharge_diagnosis' columns\n",
    "filtered_df = df[['text', 'discharge_diagnosis']]\n",
    "\n",
    "# Save the filtered DataFrame as a pickle file\n",
    "filtered_df.to_pickle(\"mimic_iv_notes.pkl\")\n"
   ],
   "metadata": {
    "collapsed": false
   }
  },
  {
   "cell_type": "code",
   "execution_count": 38,
   "outputs": [
    {
     "data": {
      "text/plain": "                                                     text  \\\n0        \\nName:  ___                     Unit No:   _...   \n1        \\nName:  ___                     Unit No:   _...   \n2        \\nName:  ___                     Unit No:   _...   \n3        \\nName:  ___                     Unit No:   _...   \n4        \\nName:  ___                    Unit No:   __...   \n...                                                   ...   \n331788   \\nName:  ___                   Unit No:   ___...   \n331789   \\nName:  ___                   Unit No:   ___...   \n331790   \\nName:  ___                  Unit No:   ___\\...   \n331791   \\nName:  ___                  Unit No:   ___\\...   \n331792   \\nName:  ___                    Unit No:   __...   \n\n                                      discharge_diagnosis  \n0                                 Ascites from Portal HTN  \n1       Primary:  diuretic refractory ascites\\nSeconda...  \n2       Primary:\\nHypotension\\nHyperkalemia\\nAcute Kid...  \n3       PRIMARY DIAGNOSIS\\n=================\\n-Decompe...  \n4                                            ___ Dementia  \n...                                                   ...  \n331788  Giant abdominal hernia with exposed bowel and ...  \n331789  # Intra-abdominal infection/abscess\\n# Enteroc...  \n331790               Seizure/symptomatic Epilepsy\\nStroke  \n331791  Primary Diagnosis:\\n1. Status Epilepticus\\n.\\n...  \n331792  Left Occipital bleed\\nUTI- Klebsiella\\nTroponi...  \n\n[331793 rows x 2 columns]",
      "text/html": "<div>\n<style scoped>\n    .dataframe tbody tr th:only-of-type {\n        vertical-align: middle;\n    }\n\n    .dataframe tbody tr th {\n        vertical-align: top;\n    }\n\n    .dataframe thead th {\n        text-align: right;\n    }\n</style>\n<table border=\"1\" class=\"dataframe\">\n  <thead>\n    <tr style=\"text-align: right;\">\n      <th></th>\n      <th>text</th>\n      <th>discharge_diagnosis</th>\n    </tr>\n  </thead>\n  <tbody>\n    <tr>\n      <th>0</th>\n      <td>\\nName:  ___                     Unit No:   _...</td>\n      <td>Ascites from Portal HTN</td>\n    </tr>\n    <tr>\n      <th>1</th>\n      <td>\\nName:  ___                     Unit No:   _...</td>\n      <td>Primary:  diuretic refractory ascites\\nSeconda...</td>\n    </tr>\n    <tr>\n      <th>2</th>\n      <td>\\nName:  ___                     Unit No:   _...</td>\n      <td>Primary:\\nHypotension\\nHyperkalemia\\nAcute Kid...</td>\n    </tr>\n    <tr>\n      <th>3</th>\n      <td>\\nName:  ___                     Unit No:   _...</td>\n      <td>PRIMARY DIAGNOSIS\\n=================\\n-Decompe...</td>\n    </tr>\n    <tr>\n      <th>4</th>\n      <td>\\nName:  ___                    Unit No:   __...</td>\n      <td>___ Dementia</td>\n    </tr>\n    <tr>\n      <th>...</th>\n      <td>...</td>\n      <td>...</td>\n    </tr>\n    <tr>\n      <th>331788</th>\n      <td>\\nName:  ___                   Unit No:   ___...</td>\n      <td>Giant abdominal hernia with exposed bowel and ...</td>\n    </tr>\n    <tr>\n      <th>331789</th>\n      <td>\\nName:  ___                   Unit No:   ___...</td>\n      <td># Intra-abdominal infection/abscess\\n# Enteroc...</td>\n    </tr>\n    <tr>\n      <th>331790</th>\n      <td>\\nName:  ___                  Unit No:   ___\\...</td>\n      <td>Seizure/symptomatic Epilepsy\\nStroke</td>\n    </tr>\n    <tr>\n      <th>331791</th>\n      <td>\\nName:  ___                  Unit No:   ___\\...</td>\n      <td>Primary Diagnosis:\\n1. Status Epilepticus\\n.\\n...</td>\n    </tr>\n    <tr>\n      <th>331792</th>\n      <td>\\nName:  ___                    Unit No:   __...</td>\n      <td>Left Occipital bleed\\nUTI- Klebsiella\\nTroponi...</td>\n    </tr>\n  </tbody>\n</table>\n<p>331793 rows × 2 columns</p>\n</div>"
     },
     "execution_count": 38,
     "metadata": {},
     "output_type": "execute_result"
    }
   ],
   "source": [
    "filtered_df"
   ],
   "metadata": {
    "collapsed": false
   }
  },
  {
   "cell_type": "markdown",
   "source": [
    "### Using Name Entity Recognition of pre-trained diagnosis dictionary to extract only the diagnosis here"
   ],
   "metadata": {
    "collapsed": false
   }
  },
  {
   "cell_type": "code",
   "execution_count": 39,
   "outputs": [
    {
     "name": "stderr",
     "output_type": "stream",
     "text": [
      "C:\\Users\\adam2\\AppData\\Roaming\\Python\\Python39\\site-packages\\spacy\\util.py:887: UserWarning: [W095] Model 'en_ner_bc5cdr_md' (0.5.1) was trained with spaCy v3.4 and may not be 100% compatible with the current version (3.5.4). If you see errors or degraded performance, download a newer compatible model or retrain your custom model with the current spaCy version. For more details and available updates, run: python -m spacy validate\n",
      "  warnings.warn(warn_msg)\n",
      "C:\\Users\\adam2\\AppData\\Local\\Temp\\ipykernel_12404\\4141597935.py:13: SettingWithCopyWarning: \n",
      "A value is trying to be set on a copy of a slice from a DataFrame.\n",
      "Try using .loc[row_indexer,col_indexer] = value instead\n",
      "\n",
      "See the caveats in the documentation: https://pandas.pydata.org/pandas-docs/stable/user_guide/indexing.html#returning-a-view-versus-a-copy\n",
      "  filtered_df['discharge_diagnosis'] = filtered_df['discharge_diagnosis'].astype(str)\n",
      "C:\\Users\\adam2\\AppData\\Local\\Temp\\ipykernel_12404\\4141597935.py:16: SettingWithCopyWarning: \n",
      "A value is trying to be set on a copy of a slice from a DataFrame.\n",
      "Try using .loc[row_indexer,col_indexer] = value instead\n",
      "\n",
      "See the caveats in the documentation: https://pandas.pydata.org/pandas-docs/stable/user_guide/indexing.html#returning-a-view-versus-a-copy\n",
      "  filtered_df['y'] = filtered_df['discharge_diagnosis'].apply(extract_diseases)\n"
     ]
    }
   ],
   "source": [
    "import pandas as pd\n",
    "import spacy\n",
    "\n",
    "# Load the scispaCy model\n",
    "nlp = spacy.load(\"en_ner_bc5cdr_md\")\n",
    "\n",
    "# Function to extract diseases from a transcription\n",
    "def extract_diseases(text):\n",
    "    doc = nlp(text)\n",
    "    return [ent.text for ent in doc.ents if ent.label_ == \"DISEASE\"]\n",
    "\n",
    "# Convert to string\n",
    "filtered_df['discharge_diagnosis'] = filtered_df['discharge_diagnosis'].astype(str)\n",
    "\n",
    "# Apply the function to the 'transcription' column\n",
    "filtered_df['y'] = filtered_df['discharge_diagnosis'].apply(extract_diseases)"
   ],
   "metadata": {
    "collapsed": false
   }
  },
  {
   "cell_type": "code",
   "execution_count": 40,
   "outputs": [
    {
     "data": {
      "text/plain": "                                                     text  \\\n0        \\nName:  ___                     Unit No:   _...   \n1        \\nName:  ___                     Unit No:   _...   \n2        \\nName:  ___                     Unit No:   _...   \n3        \\nName:  ___                     Unit No:   _...   \n4        \\nName:  ___                    Unit No:   __...   \n...                                                   ...   \n331788   \\nName:  ___                   Unit No:   ___...   \n331789   \\nName:  ___                   Unit No:   ___...   \n331790   \\nName:  ___                  Unit No:   ___\\...   \n331791   \\nName:  ___                  Unit No:   ___\\...   \n331792   \\nName:  ___                    Unit No:   __...   \n\n                                      discharge_diagnosis  \\\n0                                 Ascites from Portal HTN   \n1       Primary:  diuretic refractory ascites\\nSeconda...   \n2       Primary:\\nHypotension\\nHyperkalemia\\nAcute Kid...   \n3       PRIMARY DIAGNOSIS\\n=================\\n-Decompe...   \n4                                            ___ Dementia   \n...                                                   ...   \n331788  Giant abdominal hernia with exposed bowel and ...   \n331789  # Intra-abdominal infection/abscess\\n# Enteroc...   \n331790               Seizure/symptomatic Epilepsy\\nStroke   \n331791  Primary Diagnosis:\\n1. Status Epilepticus\\n.\\n...   \n331792  Left Occipital bleed\\nUTI- Klebsiella\\nTroponi...   \n\n                                                        y  \n0                                                      []  \n1                         [cirrhosis, hyponatremia, COPD]  \n2       [Hypotension, Hyperkalemia, Kidney Injury, Cir...  \n3                                             [cirrhosis]  \n4                                                      []  \n...                                                   ...  \n331788                        [abdominal hernia, fistula]  \n331789  [Intra-abdominal infection/abscess, fistula, i...  \n331790                                 [Epilepsy, Stroke]  \n331791                            [Pneumonia, MCA stroke]  \n331792                                                 []  \n\n[331793 rows x 3 columns]",
      "text/html": "<div>\n<style scoped>\n    .dataframe tbody tr th:only-of-type {\n        vertical-align: middle;\n    }\n\n    .dataframe tbody tr th {\n        vertical-align: top;\n    }\n\n    .dataframe thead th {\n        text-align: right;\n    }\n</style>\n<table border=\"1\" class=\"dataframe\">\n  <thead>\n    <tr style=\"text-align: right;\">\n      <th></th>\n      <th>text</th>\n      <th>discharge_diagnosis</th>\n      <th>y</th>\n    </tr>\n  </thead>\n  <tbody>\n    <tr>\n      <th>0</th>\n      <td>\\nName:  ___                     Unit No:   _...</td>\n      <td>Ascites from Portal HTN</td>\n      <td>[]</td>\n    </tr>\n    <tr>\n      <th>1</th>\n      <td>\\nName:  ___                     Unit No:   _...</td>\n      <td>Primary:  diuretic refractory ascites\\nSeconda...</td>\n      <td>[cirrhosis, hyponatremia, COPD]</td>\n    </tr>\n    <tr>\n      <th>2</th>\n      <td>\\nName:  ___                     Unit No:   _...</td>\n      <td>Primary:\\nHypotension\\nHyperkalemia\\nAcute Kid...</td>\n      <td>[Hypotension, Hyperkalemia, Kidney Injury, Cir...</td>\n    </tr>\n    <tr>\n      <th>3</th>\n      <td>\\nName:  ___                     Unit No:   _...</td>\n      <td>PRIMARY DIAGNOSIS\\n=================\\n-Decompe...</td>\n      <td>[cirrhosis]</td>\n    </tr>\n    <tr>\n      <th>4</th>\n      <td>\\nName:  ___                    Unit No:   __...</td>\n      <td>___ Dementia</td>\n      <td>[]</td>\n    </tr>\n    <tr>\n      <th>...</th>\n      <td>...</td>\n      <td>...</td>\n      <td>...</td>\n    </tr>\n    <tr>\n      <th>331788</th>\n      <td>\\nName:  ___                   Unit No:   ___...</td>\n      <td>Giant abdominal hernia with exposed bowel and ...</td>\n      <td>[abdominal hernia, fistula]</td>\n    </tr>\n    <tr>\n      <th>331789</th>\n      <td>\\nName:  ___                   Unit No:   ___...</td>\n      <td># Intra-abdominal infection/abscess\\n# Enteroc...</td>\n      <td>[Intra-abdominal infection/abscess, fistula, i...</td>\n    </tr>\n    <tr>\n      <th>331790</th>\n      <td>\\nName:  ___                  Unit No:   ___\\...</td>\n      <td>Seizure/symptomatic Epilepsy\\nStroke</td>\n      <td>[Epilepsy, Stroke]</td>\n    </tr>\n    <tr>\n      <th>331791</th>\n      <td>\\nName:  ___                  Unit No:   ___\\...</td>\n      <td>Primary Diagnosis:\\n1. Status Epilepticus\\n.\\n...</td>\n      <td>[Pneumonia, MCA stroke]</td>\n    </tr>\n    <tr>\n      <th>331792</th>\n      <td>\\nName:  ___                    Unit No:   __...</td>\n      <td>Left Occipital bleed\\nUTI- Klebsiella\\nTroponi...</td>\n      <td>[]</td>\n    </tr>\n  </tbody>\n</table>\n<p>331793 rows × 3 columns</p>\n</div>"
     },
     "execution_count": 40,
     "metadata": {},
     "output_type": "execute_result"
    }
   ],
   "source": [
    "filtered_df"
   ],
   "metadata": {
    "collapsed": false
   }
  },
  {
   "cell_type": "code",
   "execution_count": 41,
   "outputs": [],
   "source": [
    "# Save the filtered DataFrame as a pickle file\n",
    "filtered_df.to_pickle(\"mimic_iv_notes.pkl\")"
   ],
   "metadata": {
    "collapsed": false
   }
  },
  {
   "cell_type": "code",
   "execution_count": 47,
   "outputs": [],
   "source": [
    "filtered_df = pd.read_pickle(\"mimic_iv_notes.pkl\")"
   ],
   "metadata": {
    "collapsed": false
   }
  },
  {
   "cell_type": "code",
   "execution_count": 48,
   "outputs": [],
   "source": [
    "filtered_df['normalized_diseases'] = filtered_df['y'].apply(lambda diseases: [disease.lower() for disease in diseases])"
   ],
   "metadata": {
    "collapsed": false
   }
  },
  {
   "cell_type": "code",
   "execution_count": 49,
   "outputs": [],
   "source": [
    "filtered_df['normalized_diseases'] = filtered_df['normalized_diseases'].apply(lambda x: list(set(x)) if isinstance(x, list) else [x])"
   ],
   "metadata": {
    "collapsed": false
   }
  },
  {
   "cell_type": "code",
   "execution_count": 50,
   "outputs": [
    {
     "name": "stdout",
     "output_type": "stream",
     "text": [
      "['hypertension', 'atrial fibrillation', 'anemia', 'hyperlipidemia', 'pneumonia', 'depression', 'coronary artery disease', 'fracture', 'diabetes mellitus', 'pain', 'copd', 'cirrhosis', 'abdominal pain', 'gerd', 'infection', 'chest pain', 'anxiety', 'htn', 'heart failure', 'cellulitis', 'diabetes', 'hyponatremia', 'dementia', 'encephalopathy', 'acute kidney injury', 'chf', 'esrd', 'cad', 'constipation', 'bacteremia', 'pancreatitis', 'gout', 'myocardial infarction', 'aortic stenosis', 'thrombocytopenia', 'sepsis', 'hematoma', 'acute renal failure', 'syncope', 'diarrhea', 'seizure', 'fractures', 'hypothyroidism', 'chronic kidney disease', 'hypotension', 'urinary tract infection', 'nstemi', 'kidney injury', 'breast cancer', 'dehydration', 'dyslipidemia', 'small bowel obstruction', 'fever', 'stroke', 'bipolar disorder', 'hypercholesterolemia', 'hyperkalemia', 'transaminitis', 'delirium', 'dvt', 'cholangitis', 'pleural effusion', 'orthostatic hypotension', 'acute blood loss anemia', 'pulmonary embolism', 'nausea', 'seizures', 'chronic obstructive pulmonary disease', 'prostate cancer', 'depressive disorder', 'hypertensive', 'osteomyelitis', 'gi bleed', 'hematuria', 'hyperglycemia', 'peripheral vascular disease', 'cancer', 'artery disease', 'bradycardia', 'ulcer', 'stenosis', 'gastritis', 'diabetes mellitus type ii', 'colitis', 'chronic renal failure', 'seizure disorder', 'headache', 'hypokalemia', 'tract infection', 'respiratory failure', 'pancytopenia', 'diverticulitis', 'obesity', 'glaucoma', 'type 2 diabetes mellitus', 'bleeding', 'mitral regurgitation', 'pyelonephritis', 'ischemia', 'gastroesophageal reflux disease']\n"
     ]
    }
   ],
   "source": [
    "from collections import Counter\n",
    "\n",
    "# Flatten the list of lists and count occurrences\n",
    "all_diseases = [disease for sublist in filtered_df['normalized_diseases'] for disease in sublist]\n",
    "disease_counts = Counter(all_diseases)\n",
    "\n",
    "# Get the top 100 diseases\n",
    "top_100_diseases = [disease for disease, count in disease_counts.most_common(100)]\n",
    "print(top_100_diseases)"
   ],
   "metadata": {
    "collapsed": false
   }
  },
  {
   "cell_type": "code",
   "execution_count": 51,
   "outputs": [
    {
     "data": {
      "text/plain": "<Figure size 1080x720 with 1 Axes>",
      "image/png": "[encoded data removed]"
     },
     "metadata": {},
     "output_type": "display_data"
    }
   ],
   "source": [
    "import matplotlib.pyplot as plt\n",
    "\n",
    "# Extract top diseases and their counts\n",
    "top_diseases, counts = zip(*disease_counts.most_common(100))\n",
    "\n",
    "# Create a bar plot\n",
    "plt.figure(figsize=(15, 10))  # Adjust the size as needed\n",
    "plt.bar(top_diseases, counts)\n",
    "plt.xlabel('Diseases')\n",
    "plt.ylabel('Counts')\n",
    "plt.xticks(rotation=90)  # Rotate the x-labels for better readability\n",
    "plt.title('Top 100 Disease Frequencies')\n",
    "plt.show()"
   ],
   "metadata": {
    "collapsed": false
   }
  },
  {
   "cell_type": "code",
   "execution_count": 56,
   "outputs": [
    {
     "name": "stdout",
     "output_type": "stream",
     "text": [
      "('hypertension', 'atrial fibrillation', 'anemia', 'hyperlipidemia', 'pneumonia')\n",
      "(43105, 19108, 16107, 15682, 14228)\n"
     ]
    }
   ],
   "source": [
    "print(top_diseases[:5])\n",
    "print(counts[:5])"
   ],
   "metadata": {
    "collapsed": false
   }
  },
  {
   "cell_type": "markdown",
   "source": [
    "### Working with top 5 diagnoses : ('hypertension',  'atrial fibrillation',  'anemia',  'hyperlipidemia',  'pneumonia')"
   ],
   "metadata": {
    "collapsed": false
   }
  },
  {
   "cell_type": "code",
   "execution_count": 57,
   "outputs": [],
   "source": [
    "# Define the list of diseases you're interested in\n",
    "target_diseases = {'hypertension', 'atrial fibrillation', 'anemia', 'hyperlipidemia', 'pneumonia'}\n",
    "\n",
    "# Remove all terms not in target_diseases\n",
    "filtered_df['normalized_diseases'] = filtered_df['normalized_diseases'].apply(\n",
    "    lambda diseases: [disease for disease in diseases if disease in target_diseases])"
   ],
   "metadata": {
    "collapsed": false
   }
  },
  {
   "cell_type": "code",
   "execution_count": 78,
   "outputs": [
    {
     "data": {
      "text/plain": "[]                                                                        252445\n[hypertension]                                                             23166\n[pneumonia]                                                                 9675\n[atrial fibrillation]                                                       9661\n[anemia]                                                                    9441\n                                                                           ...  \n[pneumonia, atrial fibrillation, hyperlipidemia]                               1\n[anemia, hypertension, pneumonia, hyperlipidemia, atrial fibrillation]         1\n[pneumonia, anemia, hyperlipidemia]                                            1\n[pneumonia, hypertension, atrial fibrillation]                                 1\n[pneumonia, anemia, hypertension, atrial fibrillation]                         1\nName: normalized_diseases, Length: 78, dtype: int64"
     },
     "execution_count": 78,
     "metadata": {},
     "output_type": "execute_result"
    }
   ],
   "source": [
    "# Assuming 'normalized_diseases' is the column with disease combinations\n",
    "combination_counts = filtered_df['normalized_diseases'].value_counts()\n",
    "combination_counts"
   ],
   "metadata": {
    "collapsed": false
   }
  },
  {
   "cell_type": "markdown",
   "source": [
    "### Retain combinations with more than 1000 count only"
   ],
   "metadata": {
    "collapsed": false
   }
  },
  {
   "cell_type": "code",
   "execution_count": 84,
   "outputs": [],
   "source": [
    "# Initialize an empty DataFrame for the filtered data\n",
    "cleaned_df = pd.DataFrame(columns=filtered_df.columns)\n",
    "\n",
    "for combination, count in combination_counts.items():\n",
    "    if count >= 1000:\n",
    "        # Filter the DataFrame for this combination and concatenate\n",
    "        filtered_rows = filtered_df[filtered_df['normalized_diseases'].apply(lambda x: x == list(combination))]\n",
    "        cleaned_df = pd.concat([cleaned_df, filtered_rows], ignore_index=True)"
   ],
   "metadata": {
    "collapsed": false
   }
  },
  {
   "cell_type": "code",
   "execution_count": 86,
   "outputs": [
    {
     "data": {
      "text/plain": "[]                                                     252445\n[hypertension]                                          23166\n[pneumonia]                                              9675\n[atrial fibrillation]                                    9661\n[anemia]                                                 9441\n[hyperlipidemia, hypertension]                           7876\n[atrial fibrillation, hypertension]                      3901\n[hyperlipidemia]                                         3453\n[anemia, hypertension]                                   2516\n[hyperlipidemia, atrial fibrillation, hypertension]      1580\n[pneumonia, hypertension]                                1326\nName: normalized_diseases, dtype: int64"
     },
     "execution_count": 86,
     "metadata": {},
     "output_type": "execute_result"
    }
   ],
   "source": [
    "cleaned_df['normalized_diseases'].value_counts()"
   ],
   "metadata": {
    "collapsed": false
   }
  },
  {
   "cell_type": "code",
   "execution_count": 88,
   "outputs": [
    {
     "data": {
      "text/plain": "<Figure size 1080x504 with 1 Axes>",
      "image/png": "[encoded data removed]"
     },
     "metadata": {},
     "output_type": "display_data"
    }
   ],
   "source": [
    "# Assuming 'normalized_diseases' is the column with disease combinations\n",
    "combination_counts = cleaned_df['normalized_diseases'].value_counts()\n",
    "\n",
    "# Plotting the combination_counts\n",
    "combination_counts.plot(kind='bar', figsize=(15, 7))\n",
    "\n",
    "# Adding labels and title\n",
    "plt.xlabel('Disease Combinations')\n",
    "plt.ylabel('Counts')\n",
    "plt.title('Counts of Normalized Diseases')\n",
    "\n",
    "# Rotating the x-axis labels for better readability\n",
    "plt.xticks(rotation=45, ha='right')\n",
    "\n",
    "# Display the plot\n",
    "plt.show()"
   ],
   "metadata": {
    "collapsed": false
   }
  },
  {
   "cell_type": "markdown",
   "source": [
    "#### Downsample empty class"
   ],
   "metadata": {
    "collapsed": false
   }
  },
  {
   "cell_type": "code",
   "execution_count": 95,
   "outputs": [
    {
     "data": {
      "text/plain": "                                                     text  \\\n0        \\nName:  ___                   Unit No:   ___...   \n1        \\nName:  ___                   Unit No:   ___...   \n2        \\nName:  ___                   Unit No:   ___...   \n3        \\nName:  ___                  Unit No:   ___\\...   \n4        \\nName:  ___            ___ No:   ___\\n \\nAdm...   \n...                                                   ...   \n102509   \\nName:  ___            ___ No:   ___\\n \\nAdm...   \n102510   \\nName:  ___                 Unit No:   ___\\n...   \n102511   \\nName:  ___                      Unit No:   ...   \n102512   \\nName:  ___                   Unit No:   ___...   \n102513  Name:  ___            ___ No:  ___\\n\\nAdmissio...   \n\n                                      discharge_diagnosis  \\\n0                 POSTOPERATIVE DIAGNOSIS:  Adrenal mass.   \n1       Primary: Critical limb Ischemia, postoperative...   \n2       Primary Diagnosis:\\nChest pain with possible c...   \n3         Pancreatitis\\nPortal Vein Thrombosis\\nPneumonia   \n4       diarrhea -antibiotic associated\\ncopd\\nprostat...   \n...                                                   ...   \n102509  PRIMARY DIAGNOSIS: \\n- Abdominal pain, acute o...   \n102510  Primary diagnosis: \\nCoronary artery disease w...   \n102511  Choledocholithiasis\\nCholelithiasis\\nTransamin...   \n102512                         Right ___ finger infection   \n102513                                Diagnosis not found   \n\n                                                        y  \\\n0                                                      []   \n1       [Ischemia, postoperative anemia, Atrial fibril...   \n2       [Chest pain, coronary artery disease, ischemia...   \n3                   [Pancreatitis, Thrombosis, Pneumonia]   \n4       [diarrhea -antibiotic, copd, prostatitis, esop...   \n...                                                   ...   \n102509  [Abdominal pain, Crohn's disease, obstructions...   \n102510  [Coronary artery disease, chest pain, Cervical...   \n102511  [Choledocholithiasis, Cholelithiasis, Transami...   \n102512                                                 []   \n102513                                                 []   \n\n          normalized_diseases  \n0                          []  \n1       [atrial fibrillation]  \n2              [hypertension]  \n3                 [pneumonia]  \n4                          []  \n...                       ...  \n102509                     []  \n102510         [hypertension]  \n102511               [anemia]  \n102512                     []  \n102513                     []  \n\n[102514 rows x 4 columns]",
      "text/html": "<div>\n<style scoped>\n    .dataframe tbody tr th:only-of-type {\n        vertical-align: middle;\n    }\n\n    .dataframe tbody tr th {\n        vertical-align: top;\n    }\n\n    .dataframe thead th {\n        text-align: right;\n    }\n</style>\n<table border=\"1\" class=\"dataframe\">\n  <thead>\n    <tr style=\"text-align: right;\">\n      <th></th>\n      <th>text</th>\n      <th>discharge_diagnosis</th>\n      <th>y</th>\n      <th>normalized_diseases</th>\n    </tr>\n  </thead>\n  <tbody>\n    <tr>\n      <th>0</th>\n      <td>\\nName:  ___                   Unit No:   ___...</td>\n      <td>POSTOPERATIVE DIAGNOSIS:  Adrenal mass.</td>\n      <td>[]</td>\n      <td>[]</td>\n    </tr>\n    <tr>\n      <th>1</th>\n      <td>\\nName:  ___                   Unit No:   ___...</td>\n      <td>Primary: Critical limb Ischemia, postoperative...</td>\n      <td>[Ischemia, postoperative anemia, Atrial fibril...</td>\n      <td>[atrial fibrillation]</td>\n    </tr>\n    <tr>\n      <th>2</th>\n      <td>\\nName:  ___                   Unit No:   ___...</td>\n      <td>Primary Diagnosis:\\nChest pain with possible c...</td>\n      <td>[Chest pain, coronary artery disease, ischemia...</td>\n      <td>[hypertension]</td>\n    </tr>\n    <tr>\n      <th>3</th>\n      <td>\\nName:  ___                  Unit No:   ___\\...</td>\n      <td>Pancreatitis\\nPortal Vein Thrombosis\\nPneumonia</td>\n      <td>[Pancreatitis, Thrombosis, Pneumonia]</td>\n      <td>[pneumonia]</td>\n    </tr>\n    <tr>\n      <th>4</th>\n      <td>\\nName:  ___            ___ No:   ___\\n \\nAdm...</td>\n      <td>diarrhea -antibiotic associated\\ncopd\\nprostat...</td>\n      <td>[diarrhea -antibiotic, copd, prostatitis, esop...</td>\n      <td>[]</td>\n    </tr>\n    <tr>\n      <th>...</th>\n      <td>...</td>\n      <td>...</td>\n      <td>...</td>\n      <td>...</td>\n    </tr>\n    <tr>\n      <th>102509</th>\n      <td>\\nName:  ___            ___ No:   ___\\n \\nAdm...</td>\n      <td>PRIMARY DIAGNOSIS: \\n- Abdominal pain, acute o...</td>\n      <td>[Abdominal pain, Crohn's disease, obstructions...</td>\n      <td>[]</td>\n    </tr>\n    <tr>\n      <th>102510</th>\n      <td>\\nName:  ___                 Unit No:   ___\\n...</td>\n      <td>Primary diagnosis: \\nCoronary artery disease w...</td>\n      <td>[Coronary artery disease, chest pain, Cervical...</td>\n      <td>[hypertension]</td>\n    </tr>\n    <tr>\n      <th>102511</th>\n      <td>\\nName:  ___                      Unit No:   ...</td>\n      <td>Choledocholithiasis\\nCholelithiasis\\nTransamin...</td>\n      <td>[Choledocholithiasis, Cholelithiasis, Transami...</td>\n      <td>[anemia]</td>\n    </tr>\n    <tr>\n      <th>102512</th>\n      <td>\\nName:  ___                   Unit No:   ___...</td>\n      <td>Right ___ finger infection</td>\n      <td>[]</td>\n      <td>[]</td>\n    </tr>\n    <tr>\n      <th>102513</th>\n      <td>Name:  ___            ___ No:  ___\\n\\nAdmissio...</td>\n      <td>Diagnosis not found</td>\n      <td>[]</td>\n      <td>[]</td>\n    </tr>\n  </tbody>\n</table>\n<p>102514 rows × 4 columns</p>\n</div>"
     },
     "execution_count": 95,
     "metadata": {},
     "output_type": "execute_result"
    }
   ],
   "source": [
    "# Separate the rows with the '[]' class\n",
    "empty_class_df = cleaned_df[cleaned_df['normalized_diseases'].apply(lambda x: x == [])]\n",
    "\n",
    "# Downsample the '[]' class\n",
    "# Example target number is 23166, adjust as needed\n",
    "downsampled_empty_class_df = empty_class_df.sample(n=23166, random_state=42)\n",
    "\n",
    "# Separate the rows with non-empty classes\n",
    "non_empty_class_df = filtered_df[filtered_df['normalized_diseases'].apply(lambda x: x != [])]\n",
    "\n",
    "# Combine back the downsampled empty class with the non-empty classes\n",
    "balanced_df = pd.concat([downsampled_empty_class_df, non_empty_class_df], ignore_index=True)\n",
    "\n",
    "# Shuffle the DataFrame\n",
    "balanced_df = balanced_df.sample(frac=1, random_state=42).reset_index(drop=True)\n",
    "\n",
    "balanced_df"
   ],
   "metadata": {
    "collapsed": false
   }
  },
  {
   "cell_type": "code",
   "execution_count": 96,
   "outputs": [],
   "source": [
    "balanced_df = balanced_df[['text', 'normalized_diseases']]\n",
    "balanced_df.to_pickle(\"mimic_iv_balanced.pkl\")"
   ],
   "metadata": {
    "collapsed": false
   }
  },
  {
   "cell_type": "code",
   "execution_count": 98,
   "outputs": [],
   "source": [
    "import string\n",
    "from nltk.tokenize import word_tokenize\n",
    "from nltk.corpus import stopwords\n",
    "from nltk.stem import PorterStemmer\n",
    "from nltk.stem import WordNetLemmatizer\n",
    "\n",
    "def clean_text(text):\n",
    "    # Remove newline characters\n",
    "    text = text.replace(\"\\n\", \" \").replace(\"\\r\", \" \")\n",
    "\n",
    "    # Optionally: handle or remove placeholders like \"___\"\n",
    "    text = text.replace(\"___\", \" \")\n",
    "\n",
    "    # get English stopwords (consider customizing this list for medical texts)\n",
    "    english_stopwords = set(stopwords.words('english'))\n",
    "\n",
    "    # change to lower case (consider keeping case for disease names)\n",
    "    text = text.lower()\n",
    "\n",
    "    # divide string into individual words\n",
    "    tokens = word_tokenize(text)\n",
    "\n",
    "    # Consider not using stemmer and lemmatizer for preserving medical terms\n",
    "    clean_tokens = []\n",
    "    for tok in tokens:\n",
    "        tok = tok.strip() # remove space\n",
    "        if tok not in english_stopwords and tok not in string.punctuation:\n",
    "            clean_tokens.append(tok)\n",
    "\n",
    "    return \" \".join(clean_tokens)\n"
   ],
   "metadata": {
    "collapsed": false
   }
  },
  {
   "cell_type": "code",
   "execution_count": 99,
   "outputs": [
    {
     "name": "stderr",
     "output_type": "stream",
     "text": [
      "C:\\Users\\adam2\\AppData\\Local\\Temp\\ipykernel_12404\\2859380897.py:1: SettingWithCopyWarning: \n",
      "A value is trying to be set on a copy of a slice from a DataFrame.\n",
      "Try using .loc[row_indexer,col_indexer] = value instead\n",
      "\n",
      "See the caveats in the documentation: https://pandas.pydata.org/pandas-docs/stable/user_guide/indexing.html#returning-a-view-versus-a-copy\n",
      "  balanced_df['text'] = balanced_df['text'].apply(clean_text)\n"
     ]
    }
   ],
   "source": [
    "balanced_df['text'] = balanced_df['text'].apply(clean_text)"
   ],
   "metadata": {
    "collapsed": false
   }
  },
  {
   "cell_type": "code",
   "execution_count": 100,
   "outputs": [
    {
     "data": {
      "text/plain": "                                                     text  \\\n0       name unit admission date discharge date date b...   \n1       name unit admission date discharge date date b...   \n2       name unit admission date discharge date date b...   \n3       name unit admission date discharge date date b...   \n4       name admission date discharge date date birth ...   \n...                                                   ...   \n102509  name admission date discharge date date birth ...   \n102510  name unit admission date discharge date date b...   \n102511  name unit admission date discharge date date b...   \n102512  name unit admission date discharge date date b...   \n102513  name admission date discharge date date birth ...   \n\n          normalized_diseases  \n0                          []  \n1       [atrial fibrillation]  \n2              [hypertension]  \n3                 [pneumonia]  \n4                          []  \n...                       ...  \n102509                     []  \n102510         [hypertension]  \n102511               [anemia]  \n102512                     []  \n102513                     []  \n\n[102514 rows x 2 columns]",
      "text/html": "<div>\n<style scoped>\n    .dataframe tbody tr th:only-of-type {\n        vertical-align: middle;\n    }\n\n    .dataframe tbody tr th {\n        vertical-align: top;\n    }\n\n    .dataframe thead th {\n        text-align: right;\n    }\n</style>\n<table border=\"1\" class=\"dataframe\">\n  <thead>\n    <tr style=\"text-align: right;\">\n      <th></th>\n      <th>text</th>\n      <th>normalized_diseases</th>\n    </tr>\n  </thead>\n  <tbody>\n    <tr>\n      <th>0</th>\n      <td>name unit admission date discharge date date b...</td>\n      <td>[]</td>\n    </tr>\n    <tr>\n      <th>1</th>\n      <td>name unit admission date discharge date date b...</td>\n      <td>[atrial fibrillation]</td>\n    </tr>\n    <tr>\n      <th>2</th>\n      <td>name unit admission date discharge date date b...</td>\n      <td>[hypertension]</td>\n    </tr>\n    <tr>\n      <th>3</th>\n      <td>name unit admission date discharge date date b...</td>\n      <td>[pneumonia]</td>\n    </tr>\n    <tr>\n      <th>4</th>\n      <td>name admission date discharge date date birth ...</td>\n      <td>[]</td>\n    </tr>\n    <tr>\n      <th>...</th>\n      <td>...</td>\n      <td>...</td>\n    </tr>\n    <tr>\n      <th>102509</th>\n      <td>name admission date discharge date date birth ...</td>\n      <td>[]</td>\n    </tr>\n    <tr>\n      <th>102510</th>\n      <td>name unit admission date discharge date date b...</td>\n      <td>[hypertension]</td>\n    </tr>\n    <tr>\n      <th>102511</th>\n      <td>name unit admission date discharge date date b...</td>\n      <td>[anemia]</td>\n    </tr>\n    <tr>\n      <th>102512</th>\n      <td>name unit admission date discharge date date b...</td>\n      <td>[]</td>\n    </tr>\n    <tr>\n      <th>102513</th>\n      <td>name admission date discharge date date birth ...</td>\n      <td>[]</td>\n    </tr>\n  </tbody>\n</table>\n<p>102514 rows × 2 columns</p>\n</div>"
     },
     "execution_count": 100,
     "metadata": {},
     "output_type": "execute_result"
    }
   ],
   "source": [
    "balanced_df"
   ],
   "metadata": {
    "collapsed": false
   }
  },
  {
   "cell_type": "code",
   "execution_count": 101,
   "outputs": [],
   "source": [
    "balanced_df.to_pickle(\"mimic_iv_balancedv2.pkl\")"
   ],
   "metadata": {
    "collapsed": false
   }
  },
  {
   "cell_type": "code",
   "execution_count": 1,
   "outputs": [],
   "source": [
    "import pandas as pd\n",
    "\n",
    "# Load the pickle file into a pandas DataFrame\n",
    "balanced_df = pd.read_pickle(\"mimic_iv_balancedv2.pkl\")"
   ],
   "metadata": {
    "collapsed": false
   }
  },
  {
   "cell_type": "code",
   "execution_count": 2,
   "outputs": [
    {
     "data": {
      "text/plain": "(102514, 2)"
     },
     "execution_count": 2,
     "metadata": {},
     "output_type": "execute_result"
    }
   ],
   "source": [
    "balanced_df.shape"
   ],
   "metadata": {
    "collapsed": false
   }
  },
  {
   "cell_type": "code",
   "execution_count": 3,
   "outputs": [],
   "source": [
    "balanced_df['y'] = balanced_df['normalized_diseases'].apply(lambda x: list(set(x)) if isinstance(x, list) else [x])"
   ],
   "metadata": {
    "collapsed": false
   }
  },
  {
   "cell_type": "code",
   "execution_count": 4,
   "outputs": [
    {
     "data": {
      "text/plain": "\"name unit admission date discharge date date birth sex service surgery allergies known allergies adverse drug reactions attending chief complaint acute chronic limb ischemia major surgical invasive procedure lle angiogram left knee amputation history present illness hpi history cad s/p cabg afib eliquis s/p r pop bypass l popliteal stent popliteal aneurysms acute chronic limb ischemia pt evaluated leg pain coolness started several day prior admission started heparin drip transferred evaluation patient continues calf pain able move toes sensate dorsum foot reports lives home wife note hard hearing ambulate home walker ros denies chest pain nausea vomiting abdominal pain fevers chills vision loss headaches past medical history pmh cad htn borderline renal failure bilateral popliteal aneurysms s/p stents psh cabg x4 yrs ago bilateral popliteal stents angioplasty re-stenting r popliteal lap ccy social history family history non contributory physical exam vitals 96.6 bp 143/90 hr 85 rr 20 o2 sat 95 ra general well appearing nad heent eomi mmm scleral icterus cardio irregular rhythm tachycardic pulm nonlabored breathing ra abd soft nt/nd ext l aka site stable staples place serosanguinous drainage wound dressing bullae superior aspect increased size soft tender touch skin surrounding incision site ecchymotic r p/p/d/d l p/-/-/- neuro aox3 pscyh appropriate mood affect pertinent results 03:23pm blood wbc-5.3 rbc-2.66 hgb-7.8 hct-24.3 mcv-91 mch-29.3 mchc-32.1 rdw-15.0 rdwsd-49.5 plt 05:11am blood neuts-85.3 lymphs-8.1 monos-3.8 eos-2.0 baso-0.2 im absneut-4.22 abslymp-0.40 absmono-0.19 abseos-0.10 absbaso-0.01 03:23pm blood glucose-137 urean-15 creat-0.8 na-136 k-4.5 cl-101 hco3-25 angap-10 03:23pm blood calcium-8.5 phos-2.7 mg-1 cad s/p cabg afib xarelto previously hospice r pop bypass l popliteal stent popliteal aneurysms w/ acute chronic lle ischemia s/p angio w/ occluded sfa targets l knee amputation patient underwent angiography revealed lle acute chronic limb ischemia amenable limb salvaging interventions ultimately required left knee amputation due critical limb ischemia underwent aka tolerated well sustained ebl 20ml prevena vac placed initially assist wound healing full details surgical procedure please see dictated operative note brief stay pacu patient transferred vascular surgery floor remained rest hospitalization diet advanced house diet tolerated well foley catheter placed discontinued pod3 able void continued pvrs 200-300mls started tamsulosin pod 3 continue discharge followed pcp postoperative pain managed well initially iv dilaudid po oxycodone apap time discharge patient managed apap infrequent oxycodone 5mg postoperatively patient found symptomatic postoperative anemia tachycardia fatigue received 1unit prbc pod0 pod2 pod3 h/h monitored deemed stable time discharge heparin held bleeding risk transfusion requirements cardiology consulted recommended resuming patient 's home xarelto due risk stroke however discussion risks/benefits pcp family decided hold xarelto discharge immediately follow pcp management patient able participate physical therapy sessions based evaluations patient recommended discharge str continued patient 's prevena vac taken pod4 continue amputation site monitored signs infection breakdown dressing changed daily basis dsd patient pmh htn stable throughout admission metoprolol continued discharge required higher dose due afib rate control patient pmh pafib patient found tachycardic 110s excursions 150s remained hemodynamically stable based patient started metoprolol tartrate 6.25mg q6h due persistent tachycardia cardiology consulted recommended titration several days 37.5mg q6h eventual transition metoprolol succinate discharge patient need follow vascular surgery wound checks next weeks contacted date time next day patient discharged short term rehab facility improved stable condition medications admission preadmission medication list accurate complete 1. rosuvastatin calcium 5 mg po qpm 2. rivaroxaban 20 mg po daily discharge medications 1. aspirin 81 mg po daily 2. docusate sodium 100 mg po bid 3. metoprolol succinate xl 150 mg po daily atrial fibrillation 4. oxycodone immediate release 5 mg po q4h prn breakthrough pain duration 20 doses reason prn duplicate override alternating agents similar severity medication used breakthrough pain controlled acetaminophen rx oxycodone oxaydo 5 mg 1 one tablet mouth every four 4 hours prn disp 20 tablet refills 0 5. senna 17.2 mg po hs 6. rosuvastatin calcium 5 mg po qpm discharge disposition extended care facility discharge diagnosis primary critical limb ischemia postoperative anemia secondary paroxysmal atrial fibrillation ac htn discharge condition mental status clear coherent level consciousness alert interactive activity status bed assistance chair wheelchair discharge instructions dear pleasure taking care hospitalization surgery remove unhealthy tissue lower extremity tolerated procedure well ready discharged hospital please follow recommendations ensure speedy uneventful recovery lower extremity amputation discharge instructions activity \\x95you keep amputation site elevated straight whenever possible prevent swelling stump maintain flexibility joint \\x95it important put weight pressure stump activity rest allow wound heal properly \\x95you may use opposite foot transfers pivots applicable take time learn use walker learn transfer wheelchair medication \\x95before leave hospital given list medicine take home medication normally take list medication take list please discuss team \\x95you likely prescribed narcotic pain medication discharge constipating take narcotics please also take stool softener colace constipation becomes problem pharmacist suggest additional counter laxative \\x95you take tylenol every 6 hours needed pain enough take prescription narcotic pain medication require less pain medication day take daily total 3000mg tylenol tylenol used ingredient over-the-counter prescription medications aware much tylenol taking day bathing/showering \\x95you may shower feel strong enough tub baths pools permission surgeon incision fully healed \\x95after shower gently dry incision well rub area wound care \\x95please keep wound clean dry important pressure stump drainage may leave incision open air \\x95your staples/sutures remain least 4 weeks followup appointment see incision healed enough remove staples \\x95before fitted prosthesis man-made limb replace limb removed incision needs fully healed call office \\x95opening bleeding drainage odor stump incision \\x95redness swelling warmth stump \\x95fever greater 101 degrees chills worsening incisional/stump pain provider except vascular surgeon determine staples ready removed stump questions provider call vascular surgery office discuss staples removed office followup appointment determined vascular surgeon wound sufficiently healed followup instructions\""
     },
     "execution_count": 4,
     "metadata": {},
     "output_type": "execute_result"
    }
   ],
   "source": [
    "balanced_df.text[1]"
   ],
   "metadata": {
    "collapsed": false
   }
  },
  {
   "cell_type": "markdown",
   "source": [
    "### Run time too long; going to drastically subset the data\n",
    "\n",
    "Retain row/combination with 1000 or more;\n",
    "Downsample rows with >1000 to 1000 only\n",
    "\n",
    "This should reduce the data set down to 10 multi-class (incld empty) and keep a dataset of 12,000 instead of 102,514"
   ],
   "metadata": {
    "collapsed": false
   }
  },
  {
   "cell_type": "code",
   "execution_count": 5,
   "outputs": [
    {
     "name": "stdout",
     "output_type": "stream",
     "text": [
      "Counter({'': 23166, 'hypertension': 23166, 'pneumonia': 9675, 'atrial fibrillation': 9661, 'anemia': 9441, 'hyperlipidemia, hypertension': 7952, 'hypertension, atrial fibrillation': 3901, 'hyperlipidemia': 3453, 'anemia, hypertension': 2527, 'hyperlipidemia, hypertension, atrial fibrillation': 1631, 'pneumonia, hypertension': 1346, 'pneumonia, atrial fibrillation': 1023, 'anemia, atrial fibrillation': 946, 'hyperlipidemia, anemia, hypertension': 813, 'anemia, pneumonia': 773, 'hyperlipidemia, atrial fibrillation': 474, 'anemia, hypertension, atrial fibrillation': 460, 'hyperlipidemia, anemia': 334, 'hypertension, pneumonia, atrial fibrillation': 313, 'hyperlipidemia, pneumonia, hypertension': 303, 'hyperlipidemia, anemia, hypertension, atrial fibrillation': 211, 'anemia, pneumonia, hypertension': 209, 'hyperlipidemia, pneumonia': 168, 'anemia, pneumonia, atrial fibrillation': 139, 'hyperlipidemia, hypertension, pneumonia, atrial fibrillation': 97, 'hyperlipidemia, anemia, atrial fibrillation': 91, 'hyperlipidemia, anemia, pneumonia, hypertension': 55, 'atrial fibrillation, hypertension': 42, 'anemia, hypertension, pneumonia, atrial fibrillation': 37, 'hyperlipidemia, pneumonia, atrial fibrillation': 27, 'hyperlipidemia, anemia, pneumonia': 25, 'hyperlipidemia, pneumonia, hypertension, anemia, atrial fibrillation': 20, 'hyperlipidemia, anemia, pneumonia, atrial fibrillation': 13, 'hyperlipidemia, atrial fibrillation, hypertension': 8, 'hyperlipidemia, anemia, atrial fibrillation, hypertension': 7, 'anemia, pneumonia, atrial fibrillation, hypertension': 4, 'anemia, atrial fibrillation, hypertension': 2, 'pneumonia, atrial fibrillation, hypertension': 1})\n"
     ]
    }
   ],
   "source": [
    "import pandas as pd\n",
    "from collections import Counter\n",
    "\n",
    "# Join lists as strings\n",
    "balanced_df['y_joined'] = balanced_df['y'].apply(lambda x: ', '.join(x))\n",
    "\n",
    "# Flatten the list\n",
    "#flat_list = [item for sublist in balanced_df['y_joined'] for item in sublist]\n",
    "\n",
    "# Count occurrences\n",
    "count = Counter(balanced_df['y_joined'])\n",
    "\n",
    "# Display results\n",
    "print(count)\n"
   ],
   "metadata": {
    "collapsed": false
   }
  },
  {
   "cell_type": "code",
   "execution_count": 6,
   "outputs": [
    {
     "data": {
      "text/plain": "                                                    text  \\\n0      name unit admission date discharge date date b...   \n1      name unit admission date discharge date date b...   \n2      name unit admission date discharge date date b...   \n3      name unit admission date discharge date date b...   \n4      name unit admission date discharge date date b...   \n...                                                  ...   \n11995  name unit admission date discharge date date b...   \n11996  name unit admission date discharge date date b...   \n11997  name unit admission date discharge date date b...   \n11998  name unit admission date discharge date date b...   \n11999  name unit admission date discharge date date b...   \n\n                    normalized_diseases                                 y  \\\n0                        [hypertension]                    [hypertension]   \n1      [atrial fibrillation, pneumonia]  [pneumonia, atrial fibrillation]   \n2                              [anemia]                          [anemia]   \n3                 [atrial fibrillation]             [atrial fibrillation]   \n4             [pneumonia, hypertension]         [pneumonia, hypertension]   \n...                                 ...                               ...   \n11995                    [hypertension]                    [hypertension]   \n11996  [pneumonia, atrial fibrillation]  [pneumonia, atrial fibrillation]   \n11997                                []                                []   \n11998    [hyperlipidemia, hypertension]    [hyperlipidemia, hypertension]   \n11999                                []                                []   \n\n                             y_joined  \n0                        hypertension  \n1      pneumonia, atrial fibrillation  \n2                              anemia  \n3                 atrial fibrillation  \n4             pneumonia, hypertension  \n...                               ...  \n11995                    hypertension  \n11996  pneumonia, atrial fibrillation  \n11997                                  \n11998    hyperlipidemia, hypertension  \n11999                                  \n\n[12000 rows x 4 columns]",
      "text/html": "<div>\n<style scoped>\n    .dataframe tbody tr th:only-of-type {\n        vertical-align: middle;\n    }\n\n    .dataframe tbody tr th {\n        vertical-align: top;\n    }\n\n    .dataframe thead th {\n        text-align: right;\n    }\n</style>\n<table border=\"1\" class=\"dataframe\">\n  <thead>\n    <tr style=\"text-align: right;\">\n      <th></th>\n      <th>text</th>\n      <th>normalized_diseases</th>\n      <th>y</th>\n      <th>y_joined</th>\n    </tr>\n  </thead>\n  <tbody>\n    <tr>\n      <th>0</th>\n      <td>name unit admission date discharge date date b...</td>\n      <td>[hypertension]</td>\n      <td>[hypertension]</td>\n      <td>hypertension</td>\n    </tr>\n    <tr>\n      <th>1</th>\n      <td>name unit admission date discharge date date b...</td>\n      <td>[atrial fibrillation, pneumonia]</td>\n      <td>[pneumonia, atrial fibrillation]</td>\n      <td>pneumonia, atrial fibrillation</td>\n    </tr>\n    <tr>\n      <th>2</th>\n      <td>name unit admission date discharge date date b...</td>\n      <td>[anemia]</td>\n      <td>[anemia]</td>\n      <td>anemia</td>\n    </tr>\n    <tr>\n      <th>3</th>\n      <td>name unit admission date discharge date date b...</td>\n      <td>[atrial fibrillation]</td>\n      <td>[atrial fibrillation]</td>\n      <td>atrial fibrillation</td>\n    </tr>\n    <tr>\n      <th>4</th>\n      <td>name unit admission date discharge date date b...</td>\n      <td>[pneumonia, hypertension]</td>\n      <td>[pneumonia, hypertension]</td>\n      <td>pneumonia, hypertension</td>\n    </tr>\n    <tr>\n      <th>...</th>\n      <td>...</td>\n      <td>...</td>\n      <td>...</td>\n      <td>...</td>\n    </tr>\n    <tr>\n      <th>11995</th>\n      <td>name unit admission date discharge date date b...</td>\n      <td>[hypertension]</td>\n      <td>[hypertension]</td>\n      <td>hypertension</td>\n    </tr>\n    <tr>\n      <th>11996</th>\n      <td>name unit admission date discharge date date b...</td>\n      <td>[pneumonia, atrial fibrillation]</td>\n      <td>[pneumonia, atrial fibrillation]</td>\n      <td>pneumonia, atrial fibrillation</td>\n    </tr>\n    <tr>\n      <th>11997</th>\n      <td>name unit admission date discharge date date b...</td>\n      <td>[]</td>\n      <td>[]</td>\n      <td></td>\n    </tr>\n    <tr>\n      <th>11998</th>\n      <td>name unit admission date discharge date date b...</td>\n      <td>[hyperlipidemia, hypertension]</td>\n      <td>[hyperlipidemia, hypertension]</td>\n      <td>hyperlipidemia, hypertension</td>\n    </tr>\n    <tr>\n      <th>11999</th>\n      <td>name unit admission date discharge date date b...</td>\n      <td>[]</td>\n      <td>[]</td>\n      <td></td>\n    </tr>\n  </tbody>\n</table>\n<p>12000 rows × 4 columns</p>\n</div>"
     },
     "execution_count": 6,
     "metadata": {},
     "output_type": "execute_result"
    }
   ],
   "source": [
    "import pandas as pd\n",
    "from collections import Counter\n",
    "\n",
    "# Count occurrences\n",
    "count = Counter(balanced_df['y_joined'])\n",
    "\n",
    "# Create a DataFrame from the Counter object for easier manipulation\n",
    "count_df = pd.DataFrame.from_dict(count, orient='index', columns=['count'])\n",
    "\n",
    "# Filter to get the categories with count > 1000\n",
    "above_1000 = count_df[count_df['count'] > 1000]\n",
    "\n",
    "# Get the rows corresponding to the categories\n",
    "above_1000_rows = balanced_df[balanced_df['y_joined'].isin(above_1000.index)]\n",
    "\n",
    "# For rows with count > 1000, keep only 1000 rows for each type of 'y_joined'\n",
    "sampled_df = above_1000_rows.groupby('y_joined').sample(n=1000, replace=False, random_state=1)\n",
    "\n",
    "# Shuffle the dataset\n",
    "sampled_df = sampled_df.sample(frac=1, random_state=1).reset_index(drop=True)\n",
    "\n",
    "sampled_df.to_pickle(\"mimic_iv_sampled_df.pkl\")\n",
    "sampled_df\n"
   ],
   "metadata": {
    "collapsed": false
   }
  }
 ],
 "metadata": {
  "kernelspec": {
   "display_name": "Python 3",
   "language": "python",
   "name": "python3"
  },
  "language_info": {
   "codemirror_mode": {
    "name": "ipython",
    "version": 2
   },
   "file_extension": ".py",
   "mimetype": "text/x-python",
   "name": "python",
   "nbconvert_exporter": "python",
   "pygments_lexer": "ipython2",
   "version": "2.7.6"
  }
 },
 "nbformat": 4,
 "nbformat_minor": 0
}
